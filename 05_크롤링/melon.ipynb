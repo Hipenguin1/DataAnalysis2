{
 "metadata": {
  "language_info": {
   "codemirror_mode": {
    "name": "ipython",
    "version": 3
   },
   "file_extension": ".py",
   "mimetype": "text/x-python",
   "name": "python",
   "nbconvert_exporter": "python",
   "pygments_lexer": "ipython3",
   "version": "3.8.5"
  },
  "orig_nbformat": 2,
  "kernelspec": {
   "name": "python385jvsc74a57bd08c1eae21719a0790335dcb83aad72b63b602cfe5cdb2bda0f60bc11d4f154e4b",
   "display_name": "Python 3.8.5 64-bit ('base': conda)"
  }
 },
 "nbformat": 4,
 "nbformat_minor": 2,
 "cells": [
  {
   "source": [
    "# Melon 주간 차트 크롤링 "
   ],
   "cell_type": "markdown",
   "metadata": {}
  },
  {
   "cell_type": "code",
   "execution_count": 1,
   "metadata": {},
   "outputs": [],
   "source": [
    "import requests \n",
    "import pandas as pd "
   ]
  },
  {
   "cell_type": "code",
   "execution_count": 6,
   "metadata": {},
   "outputs": [],
   "source": [
    "# 한빛아카데미\n",
    "url = 'https://www.hanbit.co.kr/academy/'\n",
    "req = requests.get(url)\n",
    "html = req.text\n",
    "#html"
   ]
  },
  {
   "cell_type": "code",
   "execution_count": 10,
   "metadata": {},
   "outputs": [],
   "source": [
    "# 멜론 주간차트 \n",
    "# header에 User-Agent 값을 주어야만 데이터를 가져올 수 있음. \n",
    "url = 'https://www.melon.com/chart/week/index.htm'\n",
    "header = {'User-Agent':\n",
    "            \"Mozilla/5.0 (Windows NT 10.0; Win64; x64) AppleWebKit/537.36 (KHTML, like Gecko) Chrome/91.0.4472.77 Safari/537.36\"}\n",
    "req = requests.get(url, headers=header)\n",
    "html = req.text\n",
    "#html"
   ]
  },
  {
   "cell_type": "code",
   "execution_count": 11,
   "metadata": {},
   "outputs": [],
   "source": [
    "from bs4 import BeautifulSoup\n",
    "soup = BeautifulSoup(html,'html.parser')"
   ]
  },
  {
   "cell_type": "code",
   "execution_count": null,
   "metadata": {},
   "outputs": [],
   "source": [
    "# CSS Selector로 찾기\n",
    "\n",
    "# 1. id로 찾기\n",
    "#  result = soup.select_one('#ex_id')\n",
    "#  result_list = soup.select('#ex_id')\n",
    "# 2. class로 찾기\n",
    "#  result = soup.select_one('.ex_class')\n",
    "#  result_list = soup.select('.ex_class')"
   ]
  },
  {
   "cell_type": "code",
   "execution_count": 13,
   "metadata": {},
   "outputs": [],
   "source": [
    "#lst50 > td:nth-child(6) > div > div > div.ellipsis.rank02 > a\n",
    "#아이디  td 여기        밑에 div밑에 div밑에 - 이다. \n",
    "\n",
    "#//*[@id=\"lst50\"]/td[6]/div/div/div[2]/a"
   ]
  },
  {
   "cell_type": "code",
   "execution_count": 15,
   "metadata": {},
   "outputs": [
    {
     "output_type": "execute_result",
     "data": {
      "text/plain": [
       "50"
      ]
     },
     "metadata": {},
     "execution_count": 15
    }
   ],
   "source": [
    "trs = soup.select('#lst50')\n",
    "len(trs)\n"
   ]
  },
  {
   "cell_type": "code",
   "execution_count": 44,
   "metadata": {},
   "outputs": [],
   "source": [
    "tr = trs[0]\n",
    "#tr"
   ]
  },
  {
   "cell_type": "code",
   "execution_count": 18,
   "metadata": {},
   "outputs": [
    {
     "output_type": "execute_result",
     "data": {
      "text/plain": [
       "'1'"
      ]
     },
     "metadata": {},
     "execution_count": 18
    }
   ],
   "source": [
    "# 순위\n",
    "rank = tr.select_one('.rank').string #get.text()\n",
    "rank = int(rank)"
   ]
  },
  {
   "cell_type": "code",
   "execution_count": 21,
   "metadata": {},
   "outputs": [
    {
     "output_type": "execute_result",
     "data": {
      "text/plain": [
       "'Butter'"
      ]
     },
     "metadata": {},
     "execution_count": 21
    }
   ],
   "source": [
    "# 곡명 \n",
    "title = tr.select_one('.ellipsis.rank01')\n",
    "title = title.find('a').get_text() # a태그에서 text만 가져오기 \n",
    "title"
   ]
  },
  {
   "cell_type": "code",
   "execution_count": 27,
   "metadata": {},
   "outputs": [
    {
     "output_type": "execute_result",
     "data": {
      "text/plain": [
       "'방탄소년단'"
      ]
     },
     "metadata": {},
     "execution_count": 27
    }
   ],
   "source": [
    "# 가수\n",
    "artist =tr.select_one('.ellipsis.rank02')\n",
    "artist = artist.find('a').get_text()\n",
    "artist"
   ]
  },
  {
   "cell_type": "code",
   "execution_count": 30,
   "metadata": {},
   "outputs": [
    {
     "output_type": "execute_result",
     "data": {
      "text/plain": [
       "'Butter'"
      ]
     },
     "metadata": {},
     "execution_count": 30
    }
   ],
   "source": [
    "# 앨범\n",
    "album = tr.select_one('.ellipsis.rank03')\n",
    "album = album.find('a').string\n",
    "album"
   ]
  },
  {
   "source": [
    "- 이미지 속성값 가져오기 "
   ],
   "cell_type": "markdown",
   "metadata": {}
  },
  {
   "cell_type": "code",
   "execution_count": 41,
   "metadata": {},
   "outputs": [
    {
     "output_type": "execute_result",
     "data": {
      "text/plain": [
       "'https://cdnimg.melon.co.kr/cm2/album/images/106/12/483/10612483_20210521111412_500.jpg/melon/resize/120/quality/80/optimize'"
      ]
     },
     "metadata": {},
     "execution_count": 41
    }
   ],
   "source": [
    "image = trs[0].select_one('.image_typeAll').find('img')\n",
    "image= image['src']\n",
    "image"
   ]
  },
  {
   "source": [
    "- 50곡에 대해서 데이터프레임 만들기"
   ],
   "cell_type": "markdown",
   "metadata": {}
  },
  {
   "cell_type": "code",
   "execution_count": 42,
   "metadata": {},
   "outputs": [],
   "source": [
    "rank_list, title_list, artist_list,album_list, image_list = [], [], [],[],[]\n",
    "\n",
    "for tr in trs:\n",
    "    rank = tr.select_one('.rank').string \n",
    "    rank = int(rank)\n",
    "    title = tr.select_one('.ellipsis.rank01')\n",
    "    title = title.find('a').get_text() \n",
    "    artist =tr.select_one('.ellipsis.rank02')\n",
    "    artist = artist.find('a').get_text()\n",
    "    album = tr.select_one('.ellipsis.rank03')\n",
    "    album = album.find('a').string\n",
    "    image = trs[0].select_one('.image_typeAll').find('img')\n",
    "    image= image['src']\n",
    "\n",
    "    rank_list.append(rank)\n",
    "    title_list.append(title)\n",
    "    artist_list.append(artist)\n",
    "    album_list.append(album)\n",
    "    image_list.append(image)\n"
   ]
  },
  {
   "cell_type": "code",
   "execution_count": 43,
   "metadata": {},
   "outputs": [
    {
     "output_type": "execute_result",
     "data": {
      "text/plain": [
       "   순위                                      곡명                 가수  \\\n",
       "0   1                                  Butter              방탄소년단   \n",
       "1   2                           Dun Dun Dance  오마이걸 (OH MY GIRL)   \n",
       "2   3  Peaches (Feat. Daniel Caesar & Giveon)      Justin Bieber   \n",
       "3   4                                   헤픈 우연        헤이즈 (Heize)   \n",
       "4   5                            롤린 (Rollin')             브레이브걸스   \n",
       "\n",
       "              앨범                                              앨범이미지  \n",
       "0         Butter  https://cdnimg.melon.co.kr/cm2/album/images/10...  \n",
       "1  Dear OHMYGIRL  https://cdnimg.melon.co.kr/cm2/album/images/10...  \n",
       "2        Justice  https://cdnimg.melon.co.kr/cm2/album/images/10...  \n",
       "3         HAPPEN  https://cdnimg.melon.co.kr/cm2/album/images/10...  \n",
       "4        Rollin'  https://cdnimg.melon.co.kr/cm2/album/images/10...  "
      ],
      "text/html": "<div>\n<style scoped>\n    .dataframe tbody tr th:only-of-type {\n        vertical-align: middle;\n    }\n\n    .dataframe tbody tr th {\n        vertical-align: top;\n    }\n\n    .dataframe thead th {\n        text-align: right;\n    }\n</style>\n<table border=\"1\" class=\"dataframe\">\n  <thead>\n    <tr style=\"text-align: right;\">\n      <th></th>\n      <th>순위</th>\n      <th>곡명</th>\n      <th>가수</th>\n      <th>앨범</th>\n      <th>앨범이미지</th>\n    </tr>\n  </thead>\n  <tbody>\n    <tr>\n      <th>0</th>\n      <td>1</td>\n      <td>Butter</td>\n      <td>방탄소년단</td>\n      <td>Butter</td>\n      <td>https://cdnimg.melon.co.kr/cm2/album/images/10...</td>\n    </tr>\n    <tr>\n      <th>1</th>\n      <td>2</td>\n      <td>Dun Dun Dance</td>\n      <td>오마이걸 (OH MY GIRL)</td>\n      <td>Dear OHMYGIRL</td>\n      <td>https://cdnimg.melon.co.kr/cm2/album/images/10...</td>\n    </tr>\n    <tr>\n      <th>2</th>\n      <td>3</td>\n      <td>Peaches (Feat. Daniel Caesar &amp; Giveon)</td>\n      <td>Justin Bieber</td>\n      <td>Justice</td>\n      <td>https://cdnimg.melon.co.kr/cm2/album/images/10...</td>\n    </tr>\n    <tr>\n      <th>3</th>\n      <td>4</td>\n      <td>헤픈 우연</td>\n      <td>헤이즈 (Heize)</td>\n      <td>HAPPEN</td>\n      <td>https://cdnimg.melon.co.kr/cm2/album/images/10...</td>\n    </tr>\n    <tr>\n      <th>4</th>\n      <td>5</td>\n      <td>롤린 (Rollin')</td>\n      <td>브레이브걸스</td>\n      <td>Rollin'</td>\n      <td>https://cdnimg.melon.co.kr/cm2/album/images/10...</td>\n    </tr>\n  </tbody>\n</table>\n</div>"
     },
     "metadata": {},
     "execution_count": 43
    }
   ],
   "source": [
    "df = pd.DataFrame({\n",
    "    '순위': rank_list,\n",
    "    '곡명': title_list,\n",
    "    '가수': artist_list,\n",
    "    '앨범': album_list,\n",
    "    '앨범이미지': image_list\n",
    "})\n",
    "df.head()"
   ]
  },
  {
   "source": [
    "- 100곡 모두 가져오기 "
   ],
   "cell_type": "markdown",
   "metadata": {}
  },
  {
   "cell_type": "code",
   "execution_count": 71,
   "metadata": {},
   "outputs": [
    {
     "output_type": "execute_result",
     "data": {
      "text/plain": [
       "100"
      ]
     },
     "metadata": {},
     "execution_count": 71
    }
   ],
   "source": [
    "trs = soup.select('#lst50')\n",
    "trs2 =soup.select('#lst100')\n",
    "trs.extend(trs2) #extend시켜서 tr을 한번에 돌림 \n",
    "len(trs)"
   ]
  },
  {
   "cell_type": "code",
   "execution_count": 73,
   "metadata": {},
   "outputs": [],
   "source": [
    "rank_list, title_list, artist_list,album_list, image_list = [], [], [],[],[]\n",
    "\n",
    "for tr in trs:\n",
    "    rank = tr.select_one('.rank').string \n",
    "    rank = int(rank)\n",
    "    title = tr.select_one('.ellipsis.rank01')\n",
    "    title = title.find('a').get_text() \n",
    "    artist =tr.select_one('.ellipsis.rank02')\n",
    "    artist = artist.find('a').get_text()\n",
    "    album = tr.select_one('.ellipsis.rank03')\n",
    "    album = album.find('a').string\n",
    "    image = trs[0].select_one('.image_typeAll').find('img')\n",
    "    image= image['src']\n",
    "\n",
    "    rank_list.append(rank)\n",
    "    title_list.append(title)\n",
    "    artist_list.append(artist)\n",
    "    album_list.append(album)\n",
    "    image_list.append(image)"
   ]
  },
  {
   "cell_type": "code",
   "execution_count": 78,
   "metadata": {},
   "outputs": [
    {
     "output_type": "execute_result",
     "data": {
      "text/plain": [
       "   순위                                      곡명                 가수  \\\n",
       "0   1                                  Butter              방탄소년단   \n",
       "1   2                           Dun Dun Dance  오마이걸 (OH MY GIRL)   \n",
       "2   3  Peaches (Feat. Daniel Caesar & Giveon)      Justin Bieber   \n",
       "3   4                                   헤픈 우연        헤이즈 (Heize)   \n",
       "4   5                            롤린 (Rollin')             브레이브걸스   \n",
       "\n",
       "              앨범                                              앨범이미지  \n",
       "0         Butter  https://cdnimg.melon.co.kr/cm2/album/images/10...  \n",
       "1  Dear OHMYGIRL  https://cdnimg.melon.co.kr/cm2/album/images/10...  \n",
       "2        Justice  https://cdnimg.melon.co.kr/cm2/album/images/10...  \n",
       "3         HAPPEN  https://cdnimg.melon.co.kr/cm2/album/images/10...  \n",
       "4        Rollin'  https://cdnimg.melon.co.kr/cm2/album/images/10...  "
      ],
      "text/html": "<div>\n<style scoped>\n    .dataframe tbody tr th:only-of-type {\n        vertical-align: middle;\n    }\n\n    .dataframe tbody tr th {\n        vertical-align: top;\n    }\n\n    .dataframe thead th {\n        text-align: right;\n    }\n</style>\n<table border=\"1\" class=\"dataframe\">\n  <thead>\n    <tr style=\"text-align: right;\">\n      <th></th>\n      <th>순위</th>\n      <th>곡명</th>\n      <th>가수</th>\n      <th>앨범</th>\n      <th>앨범이미지</th>\n    </tr>\n  </thead>\n  <tbody>\n    <tr>\n      <th>0</th>\n      <td>1</td>\n      <td>Butter</td>\n      <td>방탄소년단</td>\n      <td>Butter</td>\n      <td>https://cdnimg.melon.co.kr/cm2/album/images/10...</td>\n    </tr>\n    <tr>\n      <th>1</th>\n      <td>2</td>\n      <td>Dun Dun Dance</td>\n      <td>오마이걸 (OH MY GIRL)</td>\n      <td>Dear OHMYGIRL</td>\n      <td>https://cdnimg.melon.co.kr/cm2/album/images/10...</td>\n    </tr>\n    <tr>\n      <th>2</th>\n      <td>3</td>\n      <td>Peaches (Feat. Daniel Caesar &amp; Giveon)</td>\n      <td>Justin Bieber</td>\n      <td>Justice</td>\n      <td>https://cdnimg.melon.co.kr/cm2/album/images/10...</td>\n    </tr>\n    <tr>\n      <th>3</th>\n      <td>4</td>\n      <td>헤픈 우연</td>\n      <td>헤이즈 (Heize)</td>\n      <td>HAPPEN</td>\n      <td>https://cdnimg.melon.co.kr/cm2/album/images/10...</td>\n    </tr>\n    <tr>\n      <th>4</th>\n      <td>5</td>\n      <td>롤린 (Rollin')</td>\n      <td>브레이브걸스</td>\n      <td>Rollin'</td>\n      <td>https://cdnimg.melon.co.kr/cm2/album/images/10...</td>\n    </tr>\n  </tbody>\n</table>\n</div>"
     },
     "metadata": {},
     "execution_count": 78
    }
   ],
   "source": [
    "df = pd.DataFrame({\n",
    "    '순위': rank_list,\n",
    "    '곡명': title_list,\n",
    "    '가수': artist_list,\n",
    "    '앨범': album_list,\n",
    "    '앨범이미지': image_list\n",
    "})\n",
    "df.head()"
   ]
  },
  {
   "source": [
    "- 파일에 저장하기 "
   ],
   "cell_type": "markdown",
   "metadata": {}
  },
  {
   "cell_type": "code",
   "execution_count": 75,
   "metadata": {},
   "outputs": [
    {
     "output_type": "execute_result",
     "data": {
      "text/plain": [
       "'2021.05.24 ~ 2021.05.30'"
      ]
     },
     "metadata": {},
     "execution_count": 75
    }
   ],
   "source": [
    "period = soup.select_one('.yyyymmdd').get_text().strip() #strip \\n \\t 삭제\n",
    "period"
   ]
  },
  {
   "cell_type": "code",
   "execution_count": 76,
   "metadata": {},
   "outputs": [],
   "source": [
    "filename = f'melon({period}).csv'\n",
    "df.to_csv(filename, index =False, sep=',', encoding = 'utf8')"
   ]
  },
  {
   "cell_type": "code",
   "execution_count": null,
   "metadata": {},
   "outputs": [],
   "source": []
  }
 ]
}