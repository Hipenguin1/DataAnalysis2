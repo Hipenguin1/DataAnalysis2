{
 "metadata": {
  "language_info": {
   "codemirror_mode": {
    "name": "ipython",
    "version": 3
   },
   "file_extension": ".py",
   "mimetype": "text/x-python",
   "name": "python",
   "nbconvert_exporter": "python",
   "pygments_lexer": "ipython3",
   "version": 3
  },
  "orig_nbformat": 2
 },
 "nbformat": 4,
 "nbformat_minor": 2,
 "cells": [
  {
   "cell_type": "code",
   "execution_count": null,
   "metadata": {},
   "outputs": [],
   "source": [
    "sql ='''\n",
    "SELECT r.Continent, COUNT(*), rount(AVG(l.population)) FROM city AS l\n",
    "\tJOIN country AS r ON l.Countrycode = r.code \n",
    "\tGROUP BY r.Continent \n",
    "\tORDER BY AVG(l.population) desc; \n",
    "'''"
   ]
  }
 ]
}