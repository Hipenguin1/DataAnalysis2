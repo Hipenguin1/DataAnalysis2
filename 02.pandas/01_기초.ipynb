{
 "metadata": {
  "language_info": {
   "codemirror_mode": {
    "name": "ipython",
    "version": 3
   },
   "file_extension": ".py",
   "mimetype": "text/x-python",
   "name": "python",
   "nbconvert_exporter": "python",
   "pygments_lexer": "ipython3",
   "version": "3.8.5"
  },
  "orig_nbformat": 2,
  "kernelspec": {
   "name": "python385jvsc74a57bd08c1eae21719a0790335dcb83aad72b63b602cfe5cdb2bda0f60bc11d4f154e4b",
   "display_name": "Python 3.8.5 64-bit ('base': conda)"
  }
 },
 "nbformat": 4,
 "nbformat_minor": 2,
 "cells": [
  {
   "cell_type": "code",
   "execution_count": null,
   "metadata": {},
   "outputs": [],
   "source": [
    "# series 1차원\n",
    "# data Frame 2차원"
   ]
  },
  {
   "source": [
    "# Pandas"
   ],
   "cell_type": "markdown",
   "metadata": {}
  },
  {
   "cell_type": "code",
   "execution_count": 4,
   "metadata": {},
   "outputs": [],
   "source": [
    "import pandas as pd"
   ]
  },
  {
   "source": [
    "# 1. 시리즈(Series)\n",
    "\n",
    "#### 데이터 프레임의 하나의 열이 시리즈\n",
    "####  값 - 인덱스\n",
    "####  밸류-인덱스"
   ],
   "cell_type": "markdown",
   "metadata": {}
  },
  {
   "cell_type": "code",
   "execution_count": 5,
   "metadata": {},
   "outputs": [
    {
     "output_type": "execute_result",
     "data": {
      "text/plain": [
       "서울    9904312\n",
       "부산    3448738\n",
       "인천    2890451\n",
       "대구    2466052\n",
       "dtype: int64"
      ]
     },
     "metadata": {},
     "execution_count": 5
    }
   ],
   "source": [
    "#Series 대문자라 클래스임 오퍼레이션이 메소드형태\n",
    "\n",
    "s = pd.Series([9904312,3448738,2890451,2466052],\n",
    "                index=['서울','부산','인천','대구'])\n",
    "s\n",
    "\n",
    "#인덱스라 값이 세로로 보임 \n"
   ]
  },
  {
   "cell_type": "code",
   "execution_count": 6,
   "metadata": {},
   "outputs": [
    {
     "output_type": "execute_result",
     "data": {
      "text/plain": [
       "0    10\n",
       "1    11\n",
       "2    12\n",
       "3    13\n",
       "dtype: int64"
      ]
     },
     "metadata": {},
     "execution_count": 6
    }
   ],
   "source": [
    "pd.Series(range(10,14))"
   ]
  },
  {
   "cell_type": "code",
   "execution_count": 10,
   "metadata": {},
   "outputs": [
    {
     "output_type": "execute_result",
     "data": {
      "text/plain": [
       "Index(['서울', '부산', '인천', '대구'], dtype='object')"
      ]
     },
     "metadata": {},
     "execution_count": 10
    }
   ],
   "source": [
    "# 키 부분\n",
    "s.index "
   ]
  },
  {
   "cell_type": "code",
   "execution_count": 9,
   "metadata": {},
   "outputs": [
    {
     "output_type": "execute_result",
     "data": {
      "text/plain": [
       "array([9904312, 3448738, 2890451, 2466052], dtype=int64)"
      ]
     },
     "metadata": {},
     "execution_count": 9
    }
   ],
   "source": [
    "# 값 부분 #어트리뷰트. 속성이라 괄호가 안붙음. \n",
    "s.values "
   ]
  },
  {
   "cell_type": "code",
   "execution_count": 11,
   "metadata": {},
   "outputs": [
    {
     "output_type": "execute_result",
     "data": {
      "text/plain": [
       "도시\n",
       "서울    9904312\n",
       "부산    3448738\n",
       "인천    2890451\n",
       "대구    2466052\n",
       "Name: 인구, dtype: int64"
      ]
     },
     "metadata": {},
     "execution_count": 11
    }
   ],
   "source": [
    "# name 속성을 이용하여 시리즈 데이터에 이름을 붙일 수 있음\n",
    "\n",
    "s.name ='인구' # s 시리즈의 이름은 인구고\n",
    "s.index.name = '도시' #값 부분의 이름은 도시\n",
    "s"
   ]
  },
  {
   "source": [
    "- 시리즈 연산"
   ],
   "cell_type": "markdown",
   "metadata": {}
  },
  {
   "cell_type": "code",
   "execution_count": 12,
   "metadata": {},
   "outputs": [
    {
     "output_type": "execute_result",
     "data": {
      "text/plain": [
       "도시\n",
       "서울    9.904312\n",
       "부산    3.448738\n",
       "인천    0.289045\n",
       "대구    2.466052\n",
       "Name: 인구, dtype: float64"
      ]
     },
     "metadata": {},
     "execution_count": 12
    }
   ],
   "source": [
    "s / 1000000 #연산가능 "
   ]
  },
  {
   "source": [
    "- 시리즈 인덱싱"
   ],
   "cell_type": "markdown",
   "metadata": {}
  },
  {
   "cell_type": "code",
   "execution_count": 14,
   "metadata": {},
   "outputs": [
    {
     "output_type": "execute_result",
     "data": {
      "text/plain": [
       "(9904312, 9904312)"
      ]
     },
     "metadata": {},
     "execution_count": 14
    }
   ],
   "source": [
    "s[0], s['서울'] #두개 다 써도 됨"
   ]
  },
  {
   "cell_type": "code",
   "execution_count": 14,
   "metadata": {},
   "outputs": [
    {
     "output_type": "execute_result",
     "data": {
      "text/plain": [
       "도시\n",
       "서울    9904312\n",
       "인천    2890451\n",
       "Name: 인구, dtype: int64"
      ]
     },
     "metadata": {},
     "execution_count": 14
    }
   ],
   "source": [
    "#부분적인 값을 갖는 시리즈\n",
    "s[[0,2]]"
   ]
  },
  {
   "cell_type": "code",
   "execution_count": 18,
   "metadata": {},
   "outputs": [
    {
     "output_type": "execute_result",
     "data": {
      "text/plain": [
       "도시\n",
       "부산    3448738\n",
       "대구    2466052\n",
       "Name: 인구, dtype: int64"
      ]
     },
     "metadata": {},
     "execution_count": 18
    }
   ],
   "source": [
    "s[['부산','대구']]"
   ]
  },
  {
   "cell_type": "code",
   "execution_count": 19,
   "metadata": {},
   "outputs": [
    {
     "output_type": "execute_result",
     "data": {
      "text/plain": [
       "도시\n",
       "부산    3448738\n",
       "인천     289045\n",
       "Name: 인구, dtype: int64"
      ]
     },
     "metadata": {},
     "execution_count": 19
    }
   ],
   "source": [
    "s[1:3] #대구 포함x"
   ]
  },
  {
   "cell_type": "code",
   "execution_count": 20,
   "metadata": {},
   "outputs": [
    {
     "output_type": "execute_result",
     "data": {
      "text/plain": [
       "도시\n",
       "부산    3448738\n",
       "인천     289045\n",
       "대구    2466052\n",
       "Name: 인구, dtype: int64"
      ]
     },
     "metadata": {},
     "execution_count": 20
    }
   ],
   "source": [
    "# 문자열 라벨을 이용하면 : 뒤의 값도 포함 \n",
    "s['부산':'대구'] #문자로 슬라이싱하면 마지막껏도 포함해서 출력됨"
   ]
  },
  {
   "source": [
    "- boolean indexing"
   ],
   "cell_type": "markdown",
   "metadata": {}
  },
  {
   "cell_type": "code",
   "execution_count": 15,
   "metadata": {},
   "outputs": [
    {
     "output_type": "execute_result",
     "data": {
      "text/plain": [
       "도시\n",
       "인천    2890451\n",
       "대구    2466052\n",
       "Name: 인구, dtype: int64"
      ]
     },
     "metadata": {},
     "execution_count": 15
    }
   ],
   "source": [
    "s[s <3000000]"
   ]
  },
  {
   "source": [
    "- 편리한 인덱싱"
   ],
   "cell_type": "markdown",
   "metadata": {}
  },
  {
   "cell_type": "code",
   "execution_count": 28,
   "metadata": {},
   "outputs": [
    {
     "output_type": "execute_result",
     "data": {
      "text/plain": [
       "(9904312, 2466052)"
      ]
     },
     "metadata": {},
     "execution_count": 28
    }
   ],
   "source": [
    "s.서울, s.대구"
   ]
  },
  {
   "source": [
    "- 시리즈와 딕셔너리 자료형 "
   ],
   "cell_type": "markdown",
   "metadata": {}
  },
  {
   "cell_type": "code",
   "execution_count": 29,
   "metadata": {},
   "outputs": [
    {
     "output_type": "execute_result",
     "data": {
      "text/plain": [
       "True"
      ]
     },
     "metadata": {},
     "execution_count": 29
    }
   ],
   "source": [
    "'서울' in s #서울이 s데이터 안에 있니?"
   ]
  },
  {
   "cell_type": "code",
   "execution_count": 32,
   "metadata": {},
   "outputs": [
    {
     "output_type": "stream",
     "name": "stdout",
     "text": [
      "서울 = 9904312\n부산 = 3448738\n인천 = 2890451\n대구 = 2466052\n"
     ]
    }
   ],
   "source": [
    "for k,v in s.items():\n",
    "    print(f'{k} = {v}')"
   ]
  },
  {
   "cell_type": "code",
   "execution_count": 33,
   "metadata": {},
   "outputs": [
    {
     "output_type": "execute_result",
     "data": {
      "text/plain": [
       "apple     1000\n",
       "banana    2000\n",
       "cherry    3000\n",
       "dtype: int64"
      ]
     },
     "metadata": {},
     "execution_count": 33
    }
   ],
   "source": [
    "fruits = {'apple':1000, 'banana':2000, 'cherry':3000}\n",
    "f = pd.Series(fruits)\n",
    "f"
   ]
  },
  {
   "source": [
    "## 2. 데이터 프레임 (DataFrame))"
   ],
   "cell_type": "markdown",
   "metadata": {}
  },
  {
   "cell_type": "code",
   "execution_count": 61,
   "metadata": {},
   "outputs": [
    {
     "output_type": "execute_result",
     "data": {
      "text/plain": [
       "      2015     2010     2005     2000   지역  2010-2015 증가율\n",
       "0  9904312  9631482  9762546  9853972  수도권         0.0283\n",
       "1  3448737  3393191  3512547  3655437  경상권         0.0163\n",
       "2  2890451  2632035  2517680  2466338  수도권         0.0982\n",
       "3  2466052  2431774  2456016  2473990  경상권         0.0141"
      ],
      "text/html": "<div>\n<style scoped>\n    .dataframe tbody tr th:only-of-type {\n        vertical-align: middle;\n    }\n\n    .dataframe tbody tr th {\n        vertical-align: top;\n    }\n\n    .dataframe thead th {\n        text-align: right;\n    }\n</style>\n<table border=\"1\" class=\"dataframe\">\n  <thead>\n    <tr style=\"text-align: right;\">\n      <th></th>\n      <th>2015</th>\n      <th>2010</th>\n      <th>2005</th>\n      <th>2000</th>\n      <th>지역</th>\n      <th>2010-2015 증가율</th>\n    </tr>\n  </thead>\n  <tbody>\n    <tr>\n      <th>0</th>\n      <td>9904312</td>\n      <td>9631482</td>\n      <td>9762546</td>\n      <td>9853972</td>\n      <td>수도권</td>\n      <td>0.0283</td>\n    </tr>\n    <tr>\n      <th>1</th>\n      <td>3448737</td>\n      <td>3393191</td>\n      <td>3512547</td>\n      <td>3655437</td>\n      <td>경상권</td>\n      <td>0.0163</td>\n    </tr>\n    <tr>\n      <th>2</th>\n      <td>2890451</td>\n      <td>2632035</td>\n      <td>2517680</td>\n      <td>2466338</td>\n      <td>수도권</td>\n      <td>0.0982</td>\n    </tr>\n    <tr>\n      <th>3</th>\n      <td>2466052</td>\n      <td>2431774</td>\n      <td>2456016</td>\n      <td>2473990</td>\n      <td>경상권</td>\n      <td>0.0141</td>\n    </tr>\n  </tbody>\n</table>\n</div>"
     },
     "metadata": {},
     "execution_count": 61
    }
   ],
   "source": [
    "data = {\n",
    "    \"2015\": [9904312, 3448737, 2890451, 2466052],\n",
    "    \"2010\": [9631482, 3393191, 2632035, 2431774],\n",
    "    \"2005\": [9762546, 3512547, 2517680, 2456016],\n",
    "    \"2000\": [9853972, 3655437, 2466338, 2473990],\n",
    "    \"지역\": [\"수도권\", \"경상권\", \"수도권\", \"경상권\"],\n",
    "    \"2010-2015 증가율\": [0.0283, 0.0163, 0.0982, 0.0141]\n",
    "}\n",
    "\n",
    "df = pd.DataFrame(data)\n",
    "df"
   ]
  },
  {
   "source": [
    "## index => row index\n",
    "## colums => column index"
   ],
   "cell_type": "markdown",
   "metadata": {}
  },
  {
   "cell_type": "code",
   "execution_count": 19,
   "metadata": {},
   "outputs": [
    {
     "output_type": "execute_result",
     "data": {
      "text/plain": [
       "       2015     2010     2005     2000   지역  2010-2015 증가율\n",
       "서울  9904312  9631482  9762546  9853972  수도권         0.0283\n",
       "부산  3448737  3393191  3512547  3655437  경상권         0.0163\n",
       "인천  2890451  2632035  2517680  2466338  수도권         0.0982\n",
       "대구  2466052  2431774  2456016  2473990  경상권         0.0141"
      ],
      "text/html": "<div>\n<style scoped>\n    .dataframe tbody tr th:only-of-type {\n        vertical-align: middle;\n    }\n\n    .dataframe tbody tr th {\n        vertical-align: top;\n    }\n\n    .dataframe thead th {\n        text-align: right;\n    }\n</style>\n<table border=\"1\" class=\"dataframe\">\n  <thead>\n    <tr style=\"text-align: right;\">\n      <th></th>\n      <th>2015</th>\n      <th>2010</th>\n      <th>2005</th>\n      <th>2000</th>\n      <th>지역</th>\n      <th>2010-2015 증가율</th>\n    </tr>\n  </thead>\n  <tbody>\n    <tr>\n      <th>서울</th>\n      <td>9904312</td>\n      <td>9631482</td>\n      <td>9762546</td>\n      <td>9853972</td>\n      <td>수도권</td>\n      <td>0.0283</td>\n    </tr>\n    <tr>\n      <th>부산</th>\n      <td>3448737</td>\n      <td>3393191</td>\n      <td>3512547</td>\n      <td>3655437</td>\n      <td>경상권</td>\n      <td>0.0163</td>\n    </tr>\n    <tr>\n      <th>인천</th>\n      <td>2890451</td>\n      <td>2632035</td>\n      <td>2517680</td>\n      <td>2466338</td>\n      <td>수도권</td>\n      <td>0.0982</td>\n    </tr>\n    <tr>\n      <th>대구</th>\n      <td>2466052</td>\n      <td>2431774</td>\n      <td>2456016</td>\n      <td>2473990</td>\n      <td>경상권</td>\n      <td>0.0141</td>\n    </tr>\n  </tbody>\n</table>\n</div>"
     },
     "metadata": {},
     "execution_count": 19
    }
   ],
   "source": [
    "index = ['서울','부산','인천','대구'] #row 이름 붙이기 \n",
    "df.index = index\n",
    "df"
   ]
  },
  {
   "cell_type": "code",
   "execution_count": 64,
   "metadata": {},
   "outputs": [
    {
     "output_type": "execute_result",
     "data": {
      "text/plain": [
       "     지역     2015     2010     2005     2000  2010-2015 증가율\n",
       "서울  수도권  9904312  9631482  9762546  9853972         0.0283\n",
       "부산  경상권  3448737  3393191  3512547  3655437         0.0163\n",
       "인천  수도권  2890451  2632035  2517680  2466338         0.0982\n",
       "대구  경상권  2466052  2431774  2456016  2473990         0.0141"
      ],
      "text/html": "<div>\n<style scoped>\n    .dataframe tbody tr th:only-of-type {\n        vertical-align: middle;\n    }\n\n    .dataframe tbody tr th {\n        vertical-align: top;\n    }\n\n    .dataframe thead th {\n        text-align: right;\n    }\n</style>\n<table border=\"1\" class=\"dataframe\">\n  <thead>\n    <tr style=\"text-align: right;\">\n      <th></th>\n      <th>지역</th>\n      <th>2015</th>\n      <th>2010</th>\n      <th>2005</th>\n      <th>2000</th>\n      <th>2010-2015 증가율</th>\n    </tr>\n  </thead>\n  <tbody>\n    <tr>\n      <th>서울</th>\n      <td>수도권</td>\n      <td>9904312</td>\n      <td>9631482</td>\n      <td>9762546</td>\n      <td>9853972</td>\n      <td>0.0283</td>\n    </tr>\n    <tr>\n      <th>부산</th>\n      <td>경상권</td>\n      <td>3448737</td>\n      <td>3393191</td>\n      <td>3512547</td>\n      <td>3655437</td>\n      <td>0.0163</td>\n    </tr>\n    <tr>\n      <th>인천</th>\n      <td>수도권</td>\n      <td>2890451</td>\n      <td>2632035</td>\n      <td>2517680</td>\n      <td>2466338</td>\n      <td>0.0982</td>\n    </tr>\n    <tr>\n      <th>대구</th>\n      <td>경상권</td>\n      <td>2466052</td>\n      <td>2431774</td>\n      <td>2456016</td>\n      <td>2473990</td>\n      <td>0.0141</td>\n    </tr>\n  </tbody>\n</table>\n</div>"
     },
     "metadata": {},
     "execution_count": 64
    }
   ],
   "source": [
    "columns = [\"지역\", \"2015\", \"2010\", \"2005\", \"2000\", \"2010-2015 증가율\"] #column 이름 붙이기 \n",
    "df = pd.DataFrame(data, index=index, columns=columns) #정렬 data를 row를 index로 column을 columns로 \n",
    "df"
   ]
  },
  {
   "cell_type": "code",
   "execution_count": 65,
   "metadata": {},
   "outputs": [
    {
     "output_type": "execute_result",
     "data": {
      "text/plain": [
       "array([['수도권', 9904312, 9631482, 9762546, 9853972, 0.0283],\n",
       "       ['경상권', 3448737, 3393191, 3512547, 3655437, 0.0163],\n",
       "       ['수도권', 2890451, 2632035, 2517680, 2466338, 0.0982],\n",
       "       ['경상권', 2466052, 2431774, 2456016, 2473990, 0.0141]], dtype=object)"
      ]
     },
     "metadata": {},
     "execution_count": 65
    }
   ],
   "source": [
    "df.values\n",
    "# 값 하나하나가 시리즈"
   ]
  },
  {
   "cell_type": "code",
   "execution_count": 66,
   "metadata": {},
   "outputs": [
    {
     "output_type": "execute_result",
     "data": {
      "text/plain": [
       "특성   지역     2015     2010     2005     2000  2010-2015 증가율\n",
       "도시                                                        \n",
       "서울  수도권  9904312  9631482  9762546  9853972         0.0283\n",
       "부산  경상권  3448737  3393191  3512547  3655437         0.0163\n",
       "인천  수도권  2890451  2632035  2517680  2466338         0.0982\n",
       "대구  경상권  2466052  2431774  2456016  2473990         0.0141"
      ],
      "text/html": "<div>\n<style scoped>\n    .dataframe tbody tr th:only-of-type {\n        vertical-align: middle;\n    }\n\n    .dataframe tbody tr th {\n        vertical-align: top;\n    }\n\n    .dataframe thead th {\n        text-align: right;\n    }\n</style>\n<table border=\"1\" class=\"dataframe\">\n  <thead>\n    <tr style=\"text-align: right;\">\n      <th>특성</th>\n      <th>지역</th>\n      <th>2015</th>\n      <th>2010</th>\n      <th>2005</th>\n      <th>2000</th>\n      <th>2010-2015 증가율</th>\n    </tr>\n    <tr>\n      <th>도시</th>\n      <th></th>\n      <th></th>\n      <th></th>\n      <th></th>\n      <th></th>\n      <th></th>\n    </tr>\n  </thead>\n  <tbody>\n    <tr>\n      <th>서울</th>\n      <td>수도권</td>\n      <td>9904312</td>\n      <td>9631482</td>\n      <td>9762546</td>\n      <td>9853972</td>\n      <td>0.0283</td>\n    </tr>\n    <tr>\n      <th>부산</th>\n      <td>경상권</td>\n      <td>3448737</td>\n      <td>3393191</td>\n      <td>3512547</td>\n      <td>3655437</td>\n      <td>0.0163</td>\n    </tr>\n    <tr>\n      <th>인천</th>\n      <td>수도권</td>\n      <td>2890451</td>\n      <td>2632035</td>\n      <td>2517680</td>\n      <td>2466338</td>\n      <td>0.0982</td>\n    </tr>\n    <tr>\n      <th>대구</th>\n      <td>경상권</td>\n      <td>2466052</td>\n      <td>2431774</td>\n      <td>2456016</td>\n      <td>2473990</td>\n      <td>0.0141</td>\n    </tr>\n  </tbody>\n</table>\n</div>"
     },
     "metadata": {},
     "execution_count": 66
    }
   ],
   "source": [
    "df.index.name = '도시'\n",
    "df.columns.name = '특성'\n",
    "df"
   ]
  },
  {
   "cell_type": "code",
   "execution_count": 67,
   "metadata": {},
   "outputs": [
    {
     "output_type": "execute_result",
     "data": {
      "text/plain": [
       "도시                  서울       부산       인천       대구\n",
       "특성                                               \n",
       "지역                 수도권      경상권      수도권      경상권\n",
       "2015           9904312  3448737  2890451  2466052\n",
       "2010           9631482  3393191  2632035  2431774\n",
       "2005           9762546  3512547  2517680  2456016\n",
       "2000           9853972  3655437  2466338  2473990\n",
       "2010-2015 증가율   0.0283   0.0163   0.0982   0.0141"
      ],
      "text/html": "<div>\n<style scoped>\n    .dataframe tbody tr th:only-of-type {\n        vertical-align: middle;\n    }\n\n    .dataframe tbody tr th {\n        vertical-align: top;\n    }\n\n    .dataframe thead th {\n        text-align: right;\n    }\n</style>\n<table border=\"1\" class=\"dataframe\">\n  <thead>\n    <tr style=\"text-align: right;\">\n      <th>도시</th>\n      <th>서울</th>\n      <th>부산</th>\n      <th>인천</th>\n      <th>대구</th>\n    </tr>\n    <tr>\n      <th>특성</th>\n      <th></th>\n      <th></th>\n      <th></th>\n      <th></th>\n    </tr>\n  </thead>\n  <tbody>\n    <tr>\n      <th>지역</th>\n      <td>수도권</td>\n      <td>경상권</td>\n      <td>수도권</td>\n      <td>경상권</td>\n    </tr>\n    <tr>\n      <th>2015</th>\n      <td>9904312</td>\n      <td>3448737</td>\n      <td>2890451</td>\n      <td>2466052</td>\n    </tr>\n    <tr>\n      <th>2010</th>\n      <td>9631482</td>\n      <td>3393191</td>\n      <td>2632035</td>\n      <td>2431774</td>\n    </tr>\n    <tr>\n      <th>2005</th>\n      <td>9762546</td>\n      <td>3512547</td>\n      <td>2517680</td>\n      <td>2456016</td>\n    </tr>\n    <tr>\n      <th>2000</th>\n      <td>9853972</td>\n      <td>3655437</td>\n      <td>2466338</td>\n      <td>2473990</td>\n    </tr>\n    <tr>\n      <th>2010-2015 증가율</th>\n      <td>0.0283</td>\n      <td>0.0163</td>\n      <td>0.0982</td>\n      <td>0.0141</td>\n    </tr>\n  </tbody>\n</table>\n</div>"
     },
     "metadata": {},
     "execution_count": 67
    }
   ],
   "source": [
    "df.T # row - column 위치 바꾸기 "
   ]
  },
  {
   "source": [
    "- 열 데이터"
   ],
   "cell_type": "markdown",
   "metadata": {}
  },
  {
   "cell_type": "code",
   "execution_count": 68,
   "metadata": {},
   "outputs": [
    {
     "output_type": "execute_result",
     "data": {
      "text/plain": [
       "도시\n",
       "서울    수도권\n",
       "부산    경상권\n",
       "인천    수도권\n",
       "대구    경상권\n",
       "Name: 지역, dtype: object"
      ]
     },
     "metadata": {},
     "execution_count": 68
    }
   ],
   "source": [
    "df['지역']"
   ]
  },
  {
   "cell_type": "code",
   "execution_count": 69,
   "metadata": {},
   "outputs": [
    {
     "output_type": "execute_result",
     "data": {
      "text/plain": [
       "도시\n",
       "서울    수도권\n",
       "부산    경상권\n",
       "인천    수도권\n",
       "대구    경상권\n",
       "Name: 지역, dtype: object"
      ]
     },
     "metadata": {},
     "execution_count": 69
    }
   ],
   "source": [
    "df.지역"
   ]
  },
  {
   "cell_type": "code",
   "execution_count": 70,
   "metadata": {},
   "outputs": [
    {
     "output_type": "stream",
     "name": "stderr",
     "text": [
      "<ipython-input-70-0558febeb87e>:2: UserWarning: Pandas doesn't allow columns to be created via a new attribute name - see https://pandas.pydata.org/pandas-docs/stable/indexing.html#attribute-access\n  df.temp = [1,2,3,4]\n"
     ]
    }
   ],
   "source": [
    "# 새로운 열을 생성할 경우에는 사용할 수 없음\n",
    "df.temp = [1,2,3,4]"
   ]
  },
  {
   "cell_type": "code",
   "execution_count": 71,
   "metadata": {},
   "outputs": [
    {
     "output_type": "execute_result",
     "data": {
      "text/plain": [
       "특성   지역     2015     2010     2005     2000  2010-2015 증가율  temp\n",
       "도시                                                              \n",
       "서울  수도권  9904312  9631482  9762546  9853972         0.0283     1\n",
       "부산  경상권  3448737  3393191  3512547  3655437         0.0163     2\n",
       "인천  수도권  2890451  2632035  2517680  2466338         0.0982     3\n",
       "대구  경상권  2466052  2431774  2456016  2473990         0.0141     4"
      ],
      "text/html": "<div>\n<style scoped>\n    .dataframe tbody tr th:only-of-type {\n        vertical-align: middle;\n    }\n\n    .dataframe tbody tr th {\n        vertical-align: top;\n    }\n\n    .dataframe thead th {\n        text-align: right;\n    }\n</style>\n<table border=\"1\" class=\"dataframe\">\n  <thead>\n    <tr style=\"text-align: right;\">\n      <th>특성</th>\n      <th>지역</th>\n      <th>2015</th>\n      <th>2010</th>\n      <th>2005</th>\n      <th>2000</th>\n      <th>2010-2015 증가율</th>\n      <th>temp</th>\n    </tr>\n    <tr>\n      <th>도시</th>\n      <th></th>\n      <th></th>\n      <th></th>\n      <th></th>\n      <th></th>\n      <th></th>\n      <th></th>\n    </tr>\n  </thead>\n  <tbody>\n    <tr>\n      <th>서울</th>\n      <td>수도권</td>\n      <td>9904312</td>\n      <td>9631482</td>\n      <td>9762546</td>\n      <td>9853972</td>\n      <td>0.0283</td>\n      <td>1</td>\n    </tr>\n    <tr>\n      <th>부산</th>\n      <td>경상권</td>\n      <td>3448737</td>\n      <td>3393191</td>\n      <td>3512547</td>\n      <td>3655437</td>\n      <td>0.0163</td>\n      <td>2</td>\n    </tr>\n    <tr>\n      <th>인천</th>\n      <td>수도권</td>\n      <td>2890451</td>\n      <td>2632035</td>\n      <td>2517680</td>\n      <td>2466338</td>\n      <td>0.0982</td>\n      <td>3</td>\n    </tr>\n    <tr>\n      <th>대구</th>\n      <td>경상권</td>\n      <td>2466052</td>\n      <td>2431774</td>\n      <td>2456016</td>\n      <td>2473990</td>\n      <td>0.0141</td>\n      <td>4</td>\n    </tr>\n  </tbody>\n</table>\n</div>"
     },
     "metadata": {},
     "execution_count": 71
    }
   ],
   "source": [
    "df['temp'] = [1,2,3,4] #조회할땐 .찍기 가능 하지만 새로운열 같은 걸 만들 경우에는 . 못함!\n",
    "df"
   ]
  },
  {
   "cell_type": "code",
   "execution_count": 72,
   "metadata": {},
   "outputs": [
    {
     "output_type": "execute_result",
     "data": {
      "text/plain": [
       "특성   지역     2015     2010     2005     2000  2010-2015 증가율  temp\n",
       "도시                                                              \n",
       "서울  수도권  9904312  9631482  9762546  9853972         0.0283     5\n",
       "부산  경상권  3448737  3393191  3512547  3655437         0.0163     6\n",
       "인천  수도권  2890451  2632035  2517680  2466338         0.0982     7\n",
       "대구  경상권  2466052  2431774  2456016  2473990         0.0141     8"
      ],
      "text/html": "<div>\n<style scoped>\n    .dataframe tbody tr th:only-of-type {\n        vertical-align: middle;\n    }\n\n    .dataframe tbody tr th {\n        vertical-align: top;\n    }\n\n    .dataframe thead th {\n        text-align: right;\n    }\n</style>\n<table border=\"1\" class=\"dataframe\">\n  <thead>\n    <tr style=\"text-align: right;\">\n      <th>특성</th>\n      <th>지역</th>\n      <th>2015</th>\n      <th>2010</th>\n      <th>2005</th>\n      <th>2000</th>\n      <th>2010-2015 증가율</th>\n      <th>temp</th>\n    </tr>\n    <tr>\n      <th>도시</th>\n      <th></th>\n      <th></th>\n      <th></th>\n      <th></th>\n      <th></th>\n      <th></th>\n      <th></th>\n    </tr>\n  </thead>\n  <tbody>\n    <tr>\n      <th>서울</th>\n      <td>수도권</td>\n      <td>9904312</td>\n      <td>9631482</td>\n      <td>9762546</td>\n      <td>9853972</td>\n      <td>0.0283</td>\n      <td>5</td>\n    </tr>\n    <tr>\n      <th>부산</th>\n      <td>경상권</td>\n      <td>3448737</td>\n      <td>3393191</td>\n      <td>3512547</td>\n      <td>3655437</td>\n      <td>0.0163</td>\n      <td>6</td>\n    </tr>\n    <tr>\n      <th>인천</th>\n      <td>수도권</td>\n      <td>2890451</td>\n      <td>2632035</td>\n      <td>2517680</td>\n      <td>2466338</td>\n      <td>0.0982</td>\n      <td>7</td>\n    </tr>\n    <tr>\n      <th>대구</th>\n      <td>경상권</td>\n      <td>2466052</td>\n      <td>2431774</td>\n      <td>2456016</td>\n      <td>2473990</td>\n      <td>0.0141</td>\n      <td>8</td>\n    </tr>\n  </tbody>\n</table>\n</div>"
     },
     "metadata": {},
     "execution_count": 72
    }
   ],
   "source": [
    "df['temp']= [5,6,7,8]\n",
    "df"
   ]
  },
  {
   "cell_type": "code",
   "execution_count": 73,
   "metadata": {},
   "outputs": [],
   "source": [
    "del df['temp']"
   ]
  },
  {
   "source": [
    "- 열 인덱싱 "
   ],
   "cell_type": "markdown",
   "metadata": {}
  },
  {
   "cell_type": "code",
   "execution_count": 77,
   "metadata": {},
   "outputs": [
    {
     "output_type": "execute_result",
     "data": {
      "text/plain": [
       "도시\n",
       "서울    9631482\n",
       "부산    3393191\n",
       "인천    2632035\n",
       "대구    2431774\n",
       "Name: 2010, dtype: int64"
      ]
     },
     "metadata": {},
     "execution_count": 77
    }
   ],
   "source": [
    "#하나의 열만 인덱싱하면 시리즈가 반환\n",
    "\n",
    "df['2010'] #시리즈"
   ]
  },
  {
   "cell_type": "code",
   "execution_count": 76,
   "metadata": {},
   "outputs": [
    {
     "output_type": "execute_result",
     "data": {
      "text/plain": [
       "특성     2010\n",
       "도시         \n",
       "서울  9631482\n",
       "부산  3393191\n",
       "인천  2632035\n",
       "대구  2431774"
      ],
      "text/html": "<div>\n<style scoped>\n    .dataframe tbody tr th:only-of-type {\n        vertical-align: middle;\n    }\n\n    .dataframe tbody tr th {\n        vertical-align: top;\n    }\n\n    .dataframe thead th {\n        text-align: right;\n    }\n</style>\n<table border=\"1\" class=\"dataframe\">\n  <thead>\n    <tr style=\"text-align: right;\">\n      <th>특성</th>\n      <th>2010</th>\n    </tr>\n    <tr>\n      <th>도시</th>\n      <th></th>\n    </tr>\n  </thead>\n  <tbody>\n    <tr>\n      <th>서울</th>\n      <td>9631482</td>\n    </tr>\n    <tr>\n      <th>부산</th>\n      <td>3393191</td>\n    </tr>\n    <tr>\n      <th>인천</th>\n      <td>2632035</td>\n    </tr>\n    <tr>\n      <th>대구</th>\n      <td>2431774</td>\n    </tr>\n  </tbody>\n</table>\n</div>"
     },
     "metadata": {},
     "execution_count": 76
    }
   ],
   "source": [
    "#리스트를 써서 인덱싱하면 데이터프레임이 반환리스트를 써서 인덱싱하면 데이터프레임이 반환\n",
    "\n",
    "df[['2010']] #데이터프레임 #리스트 \n"
   ]
  },
  {
   "source": [
    "- 행 인덱싱"
   ],
   "cell_type": "markdown",
   "metadata": {}
  },
  {
   "cell_type": "code",
   "execution_count": 74,
   "metadata": {},
   "outputs": [
    {
     "output_type": "execute_result",
     "data": {
      "text/plain": [
       "특성   지역     2015     2010     2005     2000  2010-2015 증가율\n",
       "도시                                                        \n",
       "서울  수도권  9904312  9631482  9762546  9853972         0.0283"
      ],
      "text/html": "<div>\n<style scoped>\n    .dataframe tbody tr th:only-of-type {\n        vertical-align: middle;\n    }\n\n    .dataframe tbody tr th {\n        vertical-align: top;\n    }\n\n    .dataframe thead th {\n        text-align: right;\n    }\n</style>\n<table border=\"1\" class=\"dataframe\">\n  <thead>\n    <tr style=\"text-align: right;\">\n      <th>특성</th>\n      <th>지역</th>\n      <th>2015</th>\n      <th>2010</th>\n      <th>2005</th>\n      <th>2000</th>\n      <th>2010-2015 증가율</th>\n    </tr>\n    <tr>\n      <th>도시</th>\n      <th></th>\n      <th></th>\n      <th></th>\n      <th></th>\n      <th></th>\n      <th></th>\n    </tr>\n  </thead>\n  <tbody>\n    <tr>\n      <th>서울</th>\n      <td>수도권</td>\n      <td>9904312</td>\n      <td>9631482</td>\n      <td>9762546</td>\n      <td>9853972</td>\n      <td>0.0283</td>\n    </tr>\n  </tbody>\n</table>\n</div>"
     },
     "metadata": {},
     "execution_count": 74
    }
   ],
   "source": [
    "df[:1]\n",
    "\n",
    "# df['2010'] [행 index]\n",
    "#    series    데이터"
   ]
  },
  {
   "cell_type": "code",
   "execution_count": 75,
   "metadata": {},
   "outputs": [
    {
     "output_type": "execute_result",
     "data": {
      "text/plain": [
       "특성   지역     2015     2010     2005     2000  2010-2015 증가율\n",
       "도시                                                        \n",
       "서울  수도권  9904312  9631482  9762546  9853972         0.0283\n",
       "부산  경상권  3448737  3393191  3512547  3655437         0.0163"
      ],
      "text/html": "<div>\n<style scoped>\n    .dataframe tbody tr th:only-of-type {\n        vertical-align: middle;\n    }\n\n    .dataframe tbody tr th {\n        vertical-align: top;\n    }\n\n    .dataframe thead th {\n        text-align: right;\n    }\n</style>\n<table border=\"1\" class=\"dataframe\">\n  <thead>\n    <tr style=\"text-align: right;\">\n      <th>특성</th>\n      <th>지역</th>\n      <th>2015</th>\n      <th>2010</th>\n      <th>2005</th>\n      <th>2000</th>\n      <th>2010-2015 증가율</th>\n    </tr>\n    <tr>\n      <th>도시</th>\n      <th></th>\n      <th></th>\n      <th></th>\n      <th></th>\n      <th></th>\n      <th></th>\n    </tr>\n  </thead>\n  <tbody>\n    <tr>\n      <th>서울</th>\n      <td>수도권</td>\n      <td>9904312</td>\n      <td>9631482</td>\n      <td>9762546</td>\n      <td>9853972</td>\n      <td>0.0283</td>\n    </tr>\n    <tr>\n      <th>부산</th>\n      <td>경상권</td>\n      <td>3448737</td>\n      <td>3393191</td>\n      <td>3512547</td>\n      <td>3655437</td>\n      <td>0.0163</td>\n    </tr>\n  </tbody>\n</table>\n</div>"
     },
     "metadata": {},
     "execution_count": 75
    }
   ],
   "source": [
    " df['서울':'부산']"
   ]
  },
  {
   "source": [
    "- 개별 데이터 인덱싱 "
   ],
   "cell_type": "markdown",
   "metadata": {}
  },
  {
   "cell_type": "code",
   "execution_count": 79,
   "metadata": {},
   "outputs": [
    {
     "output_type": "execute_result",
     "data": {
      "text/plain": [
       "'수도권'"
      ]
     },
     "metadata": {},
     "execution_count": 79
    }
   ],
   "source": [
    "df['지역']['서울'] "
   ]
  },
  {
   "cell_type": "code",
   "execution_count": 81,
   "metadata": {},
   "outputs": [
    {
     "output_type": "execute_result",
     "data": {
      "text/plain": [
       "3448737"
      ]
     },
     "metadata": {},
     "execution_count": 81
    }
   ],
   "source": [
    "# 가장 보편적으로 사용됨\n",
    "\n",
    "df['2015'][1]   # 부산"
   ]
  },
  {
   "cell_type": "code",
   "execution_count": 82,
   "metadata": {},
   "outputs": [
    {
     "output_type": "execute_result",
     "data": {
      "text/plain": [
       "'수도권'"
      ]
     },
     "metadata": {},
     "execution_count": 82
    }
   ],
   "source": [
    "# 익숙해지면 이렇게 사용\n",
    "\n",
    "df.지역[0] "
   ]
  },
  {
   "cell_type": "code",
   "execution_count": 61,
   "metadata": {},
   "outputs": [
    {
     "output_type": "execute_result",
     "data": {
      "text/plain": [
       "9904312"
      ]
     },
     "metadata": {},
     "execution_count": 61
    }
   ],
   "source": [
    "df.지역.서울 #열 인덱스. 행인덱스 "
   ]
  }
 ]
}