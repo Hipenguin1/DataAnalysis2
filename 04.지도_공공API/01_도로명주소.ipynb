{
 "metadata": {
  "language_info": {
   "codemirror_mode": {
    "name": "ipython",
    "version": 3
   },
   "file_extension": ".py",
   "mimetype": "text/x-python",
   "name": "python",
   "nbconvert_exporter": "python",
   "pygments_lexer": "ipython3",
   "version": "3.8.5"
  },
  "orig_nbformat": 2,
  "kernelspec": {
   "name": "python385jvsc74a57bd08c1eae21719a0790335dcb83aad72b63b602cfe5cdb2bda0f60bc11d4f154e4b",
   "display_name": "Python 3.8.5 64-bit ('base': conda)"
  }
 },
 "nbformat": 4,
 "nbformat_minor": 2,
 "cells": [
  {
   "source": [
    "# 행정안전부 도로명 주소 API\n",
    "\n",
    "- 건물명으로부터 도로명 주소 구하기"
   ],
   "cell_type": "markdown",
   "metadata": {}
  },
  {
   "cell_type": "code",
   "execution_count": 1,
   "metadata": {},
   "outputs": [],
   "source": [
    "import requests \n",
    "from urllib.parse import quote\n",
    "import pandas as pd "
   ]
  },
  {
   "cell_type": "code",
   "execution_count": 2,
   "metadata": {},
   "outputs": [],
   "source": [
    "with open('roadapikey.txt',mode='r') as key_file: road_key = key_file.read()"
   ]
  },
  {
   "cell_type": "code",
   "execution_count": 6,
   "metadata": {},
   "outputs": [],
   "source": [
    "road_url = 'https://www.juso.go.kr/addrlink/addrLinkApi.do'"
   ]
  },
  {
   "cell_type": "code",
   "execution_count": 9,
   "metadata": {},
   "outputs": [
    {
     "output_type": "execute_result",
     "data": {
      "text/plain": [
       "'%ED%95%9C%EA%B5%AD%EA%B2%BD%EC%A0%9C%EC%8B%A0%EB%AC%B8%EC%82%AC'"
      ]
     },
     "metadata": {},
     "execution_count": 9
    }
   ],
   "source": [
    "quote('한국경제신문사') #base64 인코딩방식 "
   ]
  },
  {
   "cell_type": "code",
   "execution_count": 10,
   "metadata": {},
   "outputs": [
    {
     "output_type": "execute_result",
     "data": {
      "text/plain": [
       "'https://www.juso.go.kr/addrlink/addrLinkApi.do?confmKey=devU01TX0FVVEgyMDIxMDYwMzE2NDgzMDExMTI0MTk=&currentPage=1&countPerPage=10&keyword=%ED%95%9C%EA%B5%AD%EA%B2%BD%EC%A0%9C%EC%8B%A0%EB%AC%B8%EC%82%AC&resultType=json'"
      ]
     },
     "metadata": {},
     "execution_count": 10
    }
   ],
   "source": [
    "url = f\"{road_url}?confmKey={road_key}&currentPage=1&countPerPage=10&keyword={quote('한국경제신문사')}&resultType=json\"\n",
    "url"
   ]
  },
  {
   "cell_type": "code",
   "execution_count": 8,
   "metadata": {},
   "outputs": [
    {
     "output_type": "execute_result",
     "data": {
      "text/plain": [
       "{'results': {'common': {'errorMessage': '정상',\n",
       "   'countPerPage': '10',\n",
       "   'totalCount': '1',\n",
       "   'errorCode': '0',\n",
       "   'currentPage': '1'},\n",
       "  'juso': [{'detBdNmList': '',\n",
       "    'engAddr': '463, Cheongpa-ro, Jung-gu, Seoul',\n",
       "    'rn': '청파로',\n",
       "    'emdNm': '중림동',\n",
       "    'zipNo': '04505',\n",
       "    'roadAddrPart2': ' (중림동)',\n",
       "    'emdNo': '02',\n",
       "    'sggNm': '중구',\n",
       "    'jibunAddr': '서울특별시 중구 중림동 441 한국경제신문사',\n",
       "    'siNm': '서울특별시',\n",
       "    'roadAddrPart1': '서울특별시 중구 청파로 463',\n",
       "    'bdNm': '한국경제신문사',\n",
       "    'admCd': '1114017100',\n",
       "    'udrtYn': '0',\n",
       "    'lnbrMnnm': '441',\n",
       "    'roadAddr': '서울특별시 중구 청파로 463 (중림동)',\n",
       "    'lnbrSlno': '0',\n",
       "    'buldMnnm': '463',\n",
       "    'bdKdcd': '0',\n",
       "    'liNm': '',\n",
       "    'rnMgtSn': '111403101023',\n",
       "    'mtYn': '0',\n",
       "    'bdMgtSn': '1114017100104410000000321',\n",
       "    'buldSlno': '0'}]}}"
      ]
     },
     "metadata": {},
     "execution_count": 8
    }
   ],
   "source": [
    "result = requests.get(url).json()\n",
    "result"
   ]
  },
  {
   "cell_type": "code",
   "execution_count": 46,
   "metadata": {},
   "outputs": [
    {
     "output_type": "execute_result",
     "data": {
      "text/plain": [
       "[{'detBdNmList': '',\n",
       "  'engAddr': '463, Cheongpa-ro, Jung-gu, Seoul',\n",
       "  'rn': '청파로',\n",
       "  'emdNm': '중림동',\n",
       "  'zipNo': '04505',\n",
       "  'roadAddrPart2': ' (중림동)',\n",
       "  'emdNo': '02',\n",
       "  'sggNm': '중구',\n",
       "  'jibunAddr': '서울특별시 중구 중림동 441 한국경제신문사',\n",
       "  'siNm': '서울특별시',\n",
       "  'roadAddrPart1': '서울특별시 중구 청파로 463',\n",
       "  'bdNm': '한국경제신문사',\n",
       "  'admCd': '1114017100',\n",
       "  'udrtYn': '0',\n",
       "  'lnbrMnnm': '441',\n",
       "  'roadAddr': '서울특별시 중구 청파로 463 (중림동)',\n",
       "  'lnbrSlno': '0',\n",
       "  'buldMnnm': '463',\n",
       "  'bdKdcd': '0',\n",
       "  'liNm': '',\n",
       "  'rnMgtSn': '111403101023',\n",
       "  'mtYn': '0',\n",
       "  'bdMgtSn': '1114017100104410000000321',\n",
       "  'buldSlno': '0'}]"
      ]
     },
     "metadata": {},
     "execution_count": 46
    }
   ],
   "source": [
    "common=result['results']\n",
    "juso=common['juso']\n",
    "juso"
   ]
  },
  {
   "cell_type": "code",
   "execution_count": 48,
   "metadata": {},
   "outputs": [
    {
     "output_type": "execute_result",
     "data": {
      "text/plain": [
       "'한국경제신문사'"
      ]
     },
     "metadata": {},
     "execution_count": 48
    }
   ],
   "source": [
    "bdNm=juso[0]['bdNm']\n",
    "bdNm"
   ]
  },
  {
   "cell_type": "code",
   "execution_count": 45,
   "metadata": {},
   "outputs": [
    {
     "output_type": "execute_result",
     "data": {
      "text/plain": [
       "'서울특별시 중구 청파로 463 (중림동)'"
      ]
     },
     "metadata": {},
     "execution_count": 45
    }
   ],
   "source": [
    "roadAddr=juso[0]['roadAddr']\n",
    "roadAddr "
   ]
  },
  {
   "cell_type": "code",
   "execution_count": 57,
   "metadata": {},
   "outputs": [
    {
     "output_type": "execute_result",
     "data": {
      "text/plain": [
       "('한국경제신문사', '서울특별시 중구 청파로 463 (중림동)')"
      ]
     },
     "metadata": {},
     "execution_count": 57
    }
   ],
   "source": [
    "building_name=result['results']['juso'][0]['bdNm']\n",
    "road_address=result['results']['juso'][0]['roadAddr']\n",
    "building_name, road_address"
   ]
  },
  {
   "cell_type": "code",
   "execution_count": 97,
   "metadata": {},
   "outputs": [],
   "source": [
    "bldg_list =['한국경제신문사','서울특별시청','중구청','종로구청','효창공원']"
   ]
  },
  {
   "cell_type": "code",
   "execution_count": 98,
   "metadata": {},
   "outputs": [],
   "source": [
    "addr_list=[]\n",
    "\n",
    "for bldg in bldg_list:\n",
    "    url = f\"{road_url}?confmKey={road_key}&currentPage=1&countPerPage=10&keyword={quote(bldg)}&resultType=json\"\n",
    "    result = requests.get(url).json()\n",
    "    road_address=result['results']['juso'][0]['roadAddr']\n",
    "    addr_list.append(road_address)\n"
   ]
  },
  {
   "cell_type": "code",
   "execution_count": 99,
   "metadata": {},
   "outputs": [
    {
     "output_type": "execute_result",
     "data": {
      "text/plain": [
       "       건물명                           주소\n",
       "0  한국경제신문사       서울특별시 중구 청파로 463 (중림동)\n",
       "1   서울특별시청    서울특별시 중구 세종대로 110 (태평로1가)\n",
       "2      중구청       서울특별시 중구 창경궁로 17 (예관동)\n",
       "3     종로구청      서울특별시 종로구 종로1길 36 (수송동)\n",
       "4     효창공원  서울특별시 용산구 효창원로 177-18 (효창동)"
      ],
      "text/html": "<div>\n<style scoped>\n    .dataframe tbody tr th:only-of-type {\n        vertical-align: middle;\n    }\n\n    .dataframe tbody tr th {\n        vertical-align: top;\n    }\n\n    .dataframe thead th {\n        text-align: right;\n    }\n</style>\n<table border=\"1\" class=\"dataframe\">\n  <thead>\n    <tr style=\"text-align: right;\">\n      <th></th>\n      <th>건물명</th>\n      <th>주소</th>\n    </tr>\n  </thead>\n  <tbody>\n    <tr>\n      <th>0</th>\n      <td>한국경제신문사</td>\n      <td>서울특별시 중구 청파로 463 (중림동)</td>\n    </tr>\n    <tr>\n      <th>1</th>\n      <td>서울특별시청</td>\n      <td>서울특별시 중구 세종대로 110 (태평로1가)</td>\n    </tr>\n    <tr>\n      <th>2</th>\n      <td>중구청</td>\n      <td>서울특별시 중구 창경궁로 17 (예관동)</td>\n    </tr>\n    <tr>\n      <th>3</th>\n      <td>종로구청</td>\n      <td>서울특별시 종로구 종로1길 36 (수송동)</td>\n    </tr>\n    <tr>\n      <th>4</th>\n      <td>효창공원</td>\n      <td>서울특별시 용산구 효창원로 177-18 (효창동)</td>\n    </tr>\n  </tbody>\n</table>\n</div>"
     },
     "metadata": {},
     "execution_count": 99
    }
   ],
   "source": [
    "df = pd.DataFrame({\n",
    "    '건물명':bldg_list,\n",
    "    '주소':addr_list\n",
    "})\n",
    "df"
   ]
  },
  {
   "cell_type": "code",
   "execution_count": 100,
   "metadata": {},
   "outputs": [],
   "source": [
    "df.to_csv('addr.csv', index=False, sep=',',encoding='utf8')"
   ]
  },
  {
   "cell_type": "code",
   "execution_count": 101,
   "metadata": {},
   "outputs": [
    {
     "output_type": "error",
     "ename": "NameError",
     "evalue": "name 'bdlg' is not defined",
     "traceback": [
      "\u001b[1;31m---------------------------------------------------------------------------\u001b[0m",
      "\u001b[1;31mNameError\u001b[0m                                 Traceback (most recent call last)",
      "\u001b[1;32m<ipython-input-101-a52f95df5ad2>\u001b[0m in \u001b[0;36m<module>\u001b[1;34m\u001b[0m\n\u001b[0;32m      3\u001b[0m \u001b[0mroad_address\u001b[0m\u001b[1;33m=\u001b[0m\u001b[1;33m[\u001b[0m\u001b[1;33m]\u001b[0m\u001b[1;33m\u001b[0m\u001b[1;33m\u001b[0m\u001b[0m\n\u001b[0;32m      4\u001b[0m \u001b[1;33m\u001b[0m\u001b[0m\n\u001b[1;32m----> 5\u001b[1;33m \u001b[0murl\u001b[0m \u001b[1;33m=\u001b[0m \u001b[1;34mf\"{road_url}?confmKey={road_key}&currentPage=1&countPerPage=10&keyword={quote(bdlg)}&resultType=json\"\u001b[0m\u001b[1;33m\u001b[0m\u001b[1;33m\u001b[0m\u001b[0m\n\u001b[0m\u001b[0;32m      6\u001b[0m \u001b[1;33m\u001b[0m\u001b[0m\n\u001b[0;32m      7\u001b[0m \u001b[1;32mfor\u001b[0m \u001b[0mbdlg\u001b[0m \u001b[1;32min\u001b[0m \u001b[0mbldf_list\u001b[0m\u001b[1;33m:\u001b[0m\u001b[1;33m\u001b[0m\u001b[1;33m\u001b[0m\u001b[0m\n",
      "\u001b[1;31mNameError\u001b[0m: name 'bdlg' is not defined"
     ]
    }
   ],
   "source": [
    "#\n",
    "bilding_name =[]\n",
    "road_address=[]\n",
    "\n",
    "url = f\"{road_url}?confmKey={road_key}&currentPage=1&countPerPage=10&keyword={bldf_list}&resultType=json\"\n",
    "\n",
    "for juso in bldf_list:\n",
    "    bdNm=juso['results']['juso'][0]['bdNm']\n",
    "    roadAddr=juso['results']['juso'][0]['roadAddr']\n",
    "\n",
    "    bilding_name.append(bdNm)\n",
    "    road_address.append(roadAddr)\n"
   ]
  },
  {
   "cell_type": "code",
   "execution_count": 102,
   "metadata": {},
   "outputs": [
    {
     "output_type": "error",
     "ename": "TypeError",
     "evalue": "string indices must be integers",
     "traceback": [
      "\u001b[1;31m---------------------------------------------------------------------------\u001b[0m",
      "\u001b[1;31mTypeError\u001b[0m                                 Traceback (most recent call last)",
      "\u001b[1;32m<ipython-input-102-5e8a27b6fd70>\u001b[0m in \u001b[0;36m<module>\u001b[1;34m\u001b[0m\n\u001b[0;32m      8\u001b[0m     \u001b[0mresult\u001b[0m \u001b[1;33m=\u001b[0m \u001b[0mrequests\u001b[0m\u001b[1;33m.\u001b[0m\u001b[0mget\u001b[0m\u001b[1;33m(\u001b[0m\u001b[0murl\u001b[0m\u001b[1;33m)\u001b[0m\u001b[1;33m.\u001b[0m\u001b[0mjson\u001b[0m\u001b[1;33m(\u001b[0m\u001b[1;33m)\u001b[0m\u001b[1;33m\u001b[0m\u001b[1;33m\u001b[0m\u001b[0m\n\u001b[0;32m      9\u001b[0m \u001b[1;33m\u001b[0m\u001b[0m\n\u001b[1;32m---> 10\u001b[1;33m     \u001b[0mbdNm\u001b[0m\u001b[1;33m=\u001b[0m\u001b[0mjuso\u001b[0m\u001b[1;33m[\u001b[0m\u001b[1;34m'results'\u001b[0m\u001b[1;33m]\u001b[0m\u001b[1;33m[\u001b[0m\u001b[1;34m'juso'\u001b[0m\u001b[1;33m]\u001b[0m\u001b[1;33m[\u001b[0m\u001b[1;36m0\u001b[0m\u001b[1;33m]\u001b[0m\u001b[1;33m[\u001b[0m\u001b[1;34m'bdNm'\u001b[0m\u001b[1;33m]\u001b[0m\u001b[1;33m\u001b[0m\u001b[1;33m\u001b[0m\u001b[0m\n\u001b[0m\u001b[0;32m     11\u001b[0m     \u001b[0mroadAddr\u001b[0m\u001b[1;33m=\u001b[0m\u001b[0mjuso\u001b[0m\u001b[1;33m[\u001b[0m\u001b[1;34m'results'\u001b[0m\u001b[1;33m]\u001b[0m\u001b[1;33m[\u001b[0m\u001b[1;34m'juso'\u001b[0m\u001b[1;33m]\u001b[0m\u001b[1;33m[\u001b[0m\u001b[1;36m0\u001b[0m\u001b[1;33m]\u001b[0m\u001b[1;33m[\u001b[0m\u001b[1;34m'roadAddr'\u001b[0m\u001b[1;33m]\u001b[0m\u001b[1;33m\u001b[0m\u001b[1;33m\u001b[0m\u001b[0m\n\u001b[0;32m     12\u001b[0m \u001b[1;33m\u001b[0m\u001b[0m\n",
      "\u001b[1;31mTypeError\u001b[0m: string indices must be integers"
     ]
    }
   ],
   "source": [
    "bilding_name =[]\n",
    "road_address=[]\n",
    "\n",
    "\n",
    "\n",
    "for bldg in bldf_list:\n",
    "    url = f\"{road_url}?confmKey={road_key}&currentPage=1&countPerPage=10&keyword={quote(bldg)}&resultType=json\"\n",
    "    result = requests.get(url).json()\n",
    "\n",
    "    bdNm=juso['results']['juso'][0]['bdNm']\n",
    "    roadAddr=juso['results']['juso'][0]['roadAddr']\n",
    "\n",
    "    bilding_name.append(bdNm)\n",
    "    road_address.append(roadAddr)"
   ]
  },
  {
   "cell_type": "code",
   "execution_count": null,
   "metadata": {},
   "outputs": [],
   "source": []
  },
  {
   "cell_type": "code",
   "execution_count": null,
   "metadata": {},
   "outputs": [],
   "source": []
  },
  {
   "cell_type": "code",
   "execution_count": 68,
   "metadata": {},
   "outputs": [],
   "source": [
    "def find_address():\n",
    "    area= str(input())\n",
    "    road_url = 'https://www.juso.go.kr/addrlink/addrLinkApi.do'\n",
    "    url = f\"{road_url}?confmKey={road_key}&currentPage=1&countPerPage=10&keyword={quote(area)}&resultType=json\"\n",
    "    building_name= result['results']['juso'][0]['bdNm']\n",
    "    road_address= result['results']['juso'][0]['roadAddr']\n",
    "    return building_name,road_address"
   ]
  },
  {
   "cell_type": "code",
   "execution_count": 69,
   "metadata": {},
   "outputs": [
    {
     "output_type": "execute_result",
     "data": {
      "text/plain": [
       "('한국경제신문사', '서울특별시 중구 청파로 463 (중림동)')"
      ]
     },
     "metadata": {},
     "execution_count": 69
    }
   ],
   "source": [
    "find_address()"
   ]
  }
 ]
}