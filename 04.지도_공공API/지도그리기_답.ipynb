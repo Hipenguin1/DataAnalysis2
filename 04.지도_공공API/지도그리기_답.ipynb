{
 "metadata": {
  "language_info": {
   "codemirror_mode": {
    "name": "ipython",
    "version": 3
   },
   "file_extension": ".py",
   "mimetype": "text/x-python",
   "name": "python",
   "nbconvert_exporter": "python",
   "pygments_lexer": "ipython3",
   "version": "3.9.5"
  },
  "orig_nbformat": 2,
  "kernelspec": {
   "name": "python395jvsc74a57bd0693140e6c4ed813d7ae7ede282a6f9f8a4e0e686d15ca5191c5dcda1e112e0b9",
   "display_name": "Python 3.9.5 64-bit ('py39': conda)"
  }
 },
 "nbformat": 4,
 "nbformat_minor": 2,
 "cells": [
  {
   "cell_type": "code",
   "execution_count": null,
   "metadata": {},
   "outputs": [],
   "source": [
    "# 서울시 공원 지도에 표시하기 "
   ]
  },
  {
   "cell_type": "code",
   "execution_count": 4,
   "metadata": {},
   "outputs": [],
   "source": [
    "import folium\n",
    "import numpy as np \n",
    "import pandas as pd \n",
    "import seaborn as sns \n",
    "import matplotlib as mpl \n",
    "import matplotlib.pyplot as plt \n",
    "%matplotlib inline\n"
   ]
  },
  {
   "cell_type": "code",
   "execution_count": null,
   "metadata": {},
   "outputs": [],
   "source": [
    "mpl.rc('font', family='Malgun Gothic')\n",
    "mpl.rc('axes', unicode_minus=False)"
   ]
  },
  {
   "cell_type": "code",
   "execution_count": null,
   "metadata": {},
   "outputs": [],
   "source": [
    "### 데이터 파악하고 정리하기 "
   ]
  },
  {
   "cell_type": "code",
   "execution_count": 5,
   "metadata": {},
   "outputs": [
    {
     "output_type": "execute_result",
     "data": {
      "text/plain": [
       "   공원번호       공원명                                               공원개요  \\\n",
       "0     1  남산도시자연공원  남산공원은 도심에 위치하여 서울시민에게 맑은 공기를 제공하는 자연휴식처이며 산책 꽃...   \n",
       "1     3    길동생태공원  길동생태공원은 생물의 서식처를 제공하고 종다양성을 증진시키며 자연생태계의 생물들을 ...   \n",
       "2     4     서울대공원  서울대공원은 세계 각국의 야생동물들이 살아 숨 쉬는 서울동물원과 다양한 재미와 즐거...   \n",
       "\n",
       "                          면적        개원일  \\\n",
       "0  2896887㎡ 2454140㎡ 442747㎡  1968.9.10   \n",
       "1                     80683㎡  1999.5.20   \n",
       "2                   9132690㎡   1984.5.1   \n",
       "\n",
       "                                                주요시설  \\\n",
       "0  기반시설 : 광장 45950㎡ 도로 108530㎡ 산책로 6.7㎞ (북측:3.7㎞/...   \n",
       "1               탐방객안내소 야외전시대 관찰대 목재데크 조류관찰대 길동생태문화센터   \n",
       "2  동물원 식물원 테마가든(장미원 어린이동물원 피크닉장) 치유숲 산림욕장 캠핑장 국립현...   \n",
       "\n",
       "                                        주요식물  \\\n",
       "0          소나무 단풍 아카시아 상수리나무 등 191종 2881870주   \n",
       "1  소나무 보리수 등 64종 31800주 산국 부들 등 138종 192800본   \n",
       "2                                        NaN   \n",
       "\n",
       "                                                 안내도  \\\n",
       "0  http://parks.seoul.go.kr/upload/seditorMulti/2...   \n",
       "1  http://parks.seoul.go.kr/template/common/img/p...   \n",
       "2                                                NaN   \n",
       "\n",
       "                                                오시는길  \\\n",
       "0  명동역(남산케이블카 와룡묘 서울애니메이션센터 방면) 도보 명동역 3번출구 → 퍼시픽...   \n",
       "1                                                NaN   \n",
       "2  지하철 4호선 대공원역 하차(2번 출구) 도보 15분 정도 문의처 02)500-73...   \n",
       "\n",
       "                                             이용시참고사항  \\\n",
       "0  남산공원 차량통행 금지안내 2005년 5월 1일부터 남산공원에 일반승용차 택시 통행...   \n",
       "1  매주 월요일은 휴관입니다 사전예약 후 입장하실 수 있습니다. ▶ 인터넷 예약 바로가...   \n",
       "2  일반사항 공원을 깨끗하게 이용합니다. 대중교통을 이용해 주세요. 기념물 시설물 풀과...   \n",
       "\n",
       "                                                 이미지   지역  \\\n",
       "0  http://parks.seoul.go.kr/file/info/view.do?fId...   중구   \n",
       "1  http://parks.seoul.go.kr/file/info/view.do?fId...  강동구   \n",
       "2  http://parks.seoul.go.kr/file/info/view.do?fId...  과천시   \n",
       "\n",
       "                           공원주소              관리부서          전화번호  X좌표(GRS80TM)  \\\n",
       "0        서울특별시 중구 삼일대로 231(예장동)    서울특별시중부푸른도시사업소  02-3783-5900    198364.107   \n",
       "1  서울특별시 강동구 천호대로 1291(길동생태공원)   동부공원녹지사업소 길동생태공원   02-489-2770    213554.120   \n",
       "2            경기도 과천시 대공원광장로 102             전략기획실   02-500-7032    200994.267   \n",
       "\n",
       "   Y좌표(GRS80TM)  X좌표(WGS84)  Y좌표(WGS84)  \\\n",
       "0    450395.554  126.990377   37.550140   \n",
       "1    448852.675  127.154779   37.540394   \n",
       "2    437163.981  127.019846   37.426449   \n",
       "\n",
       "                                               바로가기  \n",
       "0   http://parks.seoul.go.kr/template/sub/namsan.do  \n",
       "1  http://parks.seoul.go.kr/template/sub/gildong.do  \n",
       "2                     http://grandpark.seoul.go.kr/  "
      ],
      "text/html": "<div>\n<style scoped>\n    .dataframe tbody tr th:only-of-type {\n        vertical-align: middle;\n    }\n\n    .dataframe tbody tr th {\n        vertical-align: top;\n    }\n\n    .dataframe thead th {\n        text-align: right;\n    }\n</style>\n<table border=\"1\" class=\"dataframe\">\n  <thead>\n    <tr style=\"text-align: right;\">\n      <th></th>\n      <th>공원번호</th>\n      <th>공원명</th>\n      <th>공원개요</th>\n      <th>면적</th>\n      <th>개원일</th>\n      <th>주요시설</th>\n      <th>주요식물</th>\n      <th>안내도</th>\n      <th>오시는길</th>\n      <th>이용시참고사항</th>\n      <th>이미지</th>\n      <th>지역</th>\n      <th>공원주소</th>\n      <th>관리부서</th>\n      <th>전화번호</th>\n      <th>X좌표(GRS80TM)</th>\n      <th>Y좌표(GRS80TM)</th>\n      <th>X좌표(WGS84)</th>\n      <th>Y좌표(WGS84)</th>\n      <th>바로가기</th>\n    </tr>\n  </thead>\n  <tbody>\n    <tr>\n      <th>0</th>\n      <td>1</td>\n      <td>남산도시자연공원</td>\n      <td>남산공원은 도심에 위치하여 서울시민에게 맑은 공기를 제공하는 자연휴식처이며 산책 꽃...</td>\n      <td>2896887㎡ 2454140㎡ 442747㎡</td>\n      <td>1968.9.10</td>\n      <td>기반시설 : 광장 45950㎡ 도로 108530㎡ 산책로 6.7㎞ (북측:3.7㎞/...</td>\n      <td>소나무 단풍 아카시아 상수리나무 등 191종 2881870주</td>\n      <td>http://parks.seoul.go.kr/upload/seditorMulti/2...</td>\n      <td>명동역(남산케이블카 와룡묘 서울애니메이션센터 방면) 도보 명동역 3번출구 → 퍼시픽...</td>\n      <td>남산공원 차량통행 금지안내 2005년 5월 1일부터 남산공원에 일반승용차 택시 통행...</td>\n      <td>http://parks.seoul.go.kr/file/info/view.do?fId...</td>\n      <td>중구</td>\n      <td>서울특별시 중구 삼일대로 231(예장동)</td>\n      <td>서울특별시중부푸른도시사업소</td>\n      <td>02-3783-5900</td>\n      <td>198364.107</td>\n      <td>450395.554</td>\n      <td>126.990377</td>\n      <td>37.550140</td>\n      <td>http://parks.seoul.go.kr/template/sub/namsan.do</td>\n    </tr>\n    <tr>\n      <th>1</th>\n      <td>3</td>\n      <td>길동생태공원</td>\n      <td>길동생태공원은 생물의 서식처를 제공하고 종다양성을 증진시키며 자연생태계의 생물들을 ...</td>\n      <td>80683㎡</td>\n      <td>1999.5.20</td>\n      <td>탐방객안내소 야외전시대 관찰대 목재데크 조류관찰대 길동생태문화센터</td>\n      <td>소나무 보리수 등 64종 31800주 산국 부들 등 138종 192800본</td>\n      <td>http://parks.seoul.go.kr/template/common/img/p...</td>\n      <td>NaN</td>\n      <td>매주 월요일은 휴관입니다 사전예약 후 입장하실 수 있습니다. ▶ 인터넷 예약 바로가...</td>\n      <td>http://parks.seoul.go.kr/file/info/view.do?fId...</td>\n      <td>강동구</td>\n      <td>서울특별시 강동구 천호대로 1291(길동생태공원)</td>\n      <td>동부공원녹지사업소 길동생태공원</td>\n      <td>02-489-2770</td>\n      <td>213554.120</td>\n      <td>448852.675</td>\n      <td>127.154779</td>\n      <td>37.540394</td>\n      <td>http://parks.seoul.go.kr/template/sub/gildong.do</td>\n    </tr>\n    <tr>\n      <th>2</th>\n      <td>4</td>\n      <td>서울대공원</td>\n      <td>서울대공원은 세계 각국의 야생동물들이 살아 숨 쉬는 서울동물원과 다양한 재미와 즐거...</td>\n      <td>9132690㎡</td>\n      <td>1984.5.1</td>\n      <td>동물원 식물원 테마가든(장미원 어린이동물원 피크닉장) 치유숲 산림욕장 캠핑장 국립현...</td>\n      <td>NaN</td>\n      <td>NaN</td>\n      <td>지하철 4호선 대공원역 하차(2번 출구) 도보 15분 정도 문의처 02)500-73...</td>\n      <td>일반사항 공원을 깨끗하게 이용합니다. 대중교통을 이용해 주세요. 기념물 시설물 풀과...</td>\n      <td>http://parks.seoul.go.kr/file/info/view.do?fId...</td>\n      <td>과천시</td>\n      <td>경기도 과천시 대공원광장로 102</td>\n      <td>전략기획실</td>\n      <td>02-500-7032</td>\n      <td>200994.267</td>\n      <td>437163.981</td>\n      <td>127.019846</td>\n      <td>37.426449</td>\n      <td>http://grandpark.seoul.go.kr/</td>\n    </tr>\n  </tbody>\n</table>\n</div>"
     },
     "metadata": {},
     "execution_count": 5
    }
   ],
   "source": [
    "park = pd.read_csv('서울시 주요 공원현황(수정).csv')\n",
    "park.head(3)"
   ]
  },
  {
   "cell_type": "code",
   "execution_count": 6,
   "metadata": {},
   "outputs": [
    {
     "output_type": "execute_result",
     "data": {
      "text/plain": [
       "공원번호              0\n",
       "공원명               0\n",
       "공원개요              1\n",
       "면적                3\n",
       "개원일              10\n",
       "주요시설              8\n",
       "주요식물             44\n",
       "안내도              30\n",
       "오시는길             17\n",
       "이용시참고사항          12\n",
       "이미지               0\n",
       "지역                0\n",
       "공원주소              0\n",
       "관리부서              0\n",
       "전화번호              0\n",
       "X좌표(GRS80TM)     10\n",
       "Y좌표(GRS80TM)     10\n",
       "X좌표(WGS84)        1\n",
       "Y좌표(WGS84)        1\n",
       "바로가기            114\n",
       "dtype: int64"
      ]
     },
     "metadata": {},
     "execution_count": 6
    }
   ],
   "source": [
    "# null값 확인\n",
    "park.isnull().sum()"
   ]
  },
  {
   "cell_type": "code",
   "execution_count": 7,
   "metadata": {},
   "outputs": [
    {
     "output_type": "execute_result",
     "data": {
      "text/plain": [
       "0"
      ]
     },
     "metadata": {},
     "execution_count": 7
    }
   ],
   "source": [
    "# 면적 null부분을 0으로 채우기 \n",
    "park['면적'] = park.면적.fillna('0')\n",
    "park.면적.isnull().sum()"
   ]
  },
  {
   "cell_type": "code",
   "execution_count": null,
   "metadata": {},
   "outputs": [],
   "source": [
    "def calc_area(s):\n",
    "    if s == '0':\n",
    "        return 0\n",
    "\n",
    "    num_list = s.strip().split('㎡')\n",
    "    area = 0\n",
    "    for num_str in num_list:\n",
    "        if num_str == '':\n",
    "            continue\n",
    "        area += float(num_str)\n",
    "\n",
    "    return area"
   ]
  },
  {
   "cell_type": "code",
   "execution_count": null,
   "metadata": {},
   "outputs": [],
   "source": [
    "park['area'] = park.면적.map(calc_area).astype(int)\n",
    "park[['면적','area']].head()"
   ]
  },
  {
   "cell_type": "code",
   "execution_count": null,
   "metadata": {},
   "outputs": [],
   "source": [
    "park_new = park[['공원명','지역','공원주소','area','공원개요']]\n",
    "park_new.head()"
   ]
  },
  {
   "source": [
    "## 위도, 경도 정보 구하기"
   ],
   "cell_type": "markdown",
   "metadata": {}
  },
  {
   "cell_type": "code",
   "execution_count": null,
   "metadata": {},
   "outputs": [],
   "source": [
    "import requests\n",
    "from urllib.parse import quote"
   ]
  },
  {
   "cell_type": "code",
   "execution_count": null,
   "metadata": {},
   "outputs": [],
   "source": [
    "with open('kakaoapikey.txt', mode='r') as key_file:\n",
    "    kakao_key = key_file.read()\n",
    "local_url = 'https://dapi.kakao.com/v2/local/search/address.json'"
   ]
  },
  {
   "cell_type": "code",
   "execution_count": null,
   "metadata": {},
   "outputs": [],
   "source": [
    "lat_list, lng_list = [], []\n",
    "for i in park_new.index:\n",
    "    try:\n",
    "        url = f\"{local_url}?query={quote(park_new['공원주소'][i])}\"\n",
    "        result = requests.get(url,\n",
    "                headers={\"Authorization\": \"KakaoAK \"+kakao_key}).json()\n",
    "        lat = float(result['documents'][0]['y'])\n",
    "        lng = float(result['documents'][0]['x'])\n",
    "        lat_list.append(lat)\n",
    "        lng_list.append(lng)\n",
    "    except:\n",
    "        print(park_new.공원명[i], park_new.공원주소[i])"
   ]
  },
  {
   "cell_type": "code",
   "execution_count": null,
   "metadata": {},
   "outputs": [],
   "source": [
    "In [12]:\n",
    "lat_list, lng_list = [], []\n",
    "for i in park_new.index:\n",
    "    try:\n",
    "        addr = park_new.공원주소[i].split('(우)')[0]\n",
    "        url = f\"{local_url}?query={quote(addr)}\"\n",
    "        result = requests.get(url,\n",
    "                headers={\"Authorization\": \"KakaoAK \"+kakao_key}).json()\n",
    "        lat = float(result['documents'][0]['y'])\n",
    "        lng = float(result['documents'][0]['x'])\n",
    "        lat_list.append(lat)\n",
    "        lng_list.append(lng)\n",
    "    except:\n",
    "        print(park_new.공원명[i], park_new.공원주소[i])"
   ]
  },
  {
   "cell_type": "code",
   "execution_count": null,
   "metadata": {},
   "outputs": [],
   "source": [
    "import warnings\n",
    "warnings.filterwarnings('ignore')"
   ]
  },
  {
   "cell_type": "code",
   "execution_count": null,
   "metadata": {},
   "outputs": [],
   "source": [
    "park_new['lat'], park_new['lng'] = lat_list, lng_list\n",
    "park_new.head()"
   ]
  },
  {
   "cell_type": "code",
   "execution_count": null,
   "metadata": {},
   "outputs": [],
   "source": [
    "park_new.area.plot(kind='hist')\n",
    "plt.show()"
   ]
  },
  {
   "cell_type": "code",
   "execution_count": null,
   "metadata": {},
   "outputs": [],
   "source": [
    "area_criteria = [-1, 100000, 1000000, 12000000]\n",
    "labels = ['소형', '중형', '대형']\n",
    "size_info = [3, 7, 15]"
   ]
  },
  {
   "cell_type": "code",
   "execution_count": null,
   "metadata": {},
   "outputs": [],
   "source": [
    "park_new['scale'] = pd.cut(park_new.area, area_criteria, labels=labels)\n",
    "park_new['size'] = pd.cut(park_new.area, area_criteria, labels=size_info)\n",
    "park_new.head()"
   ]
  },
  {
   "cell_type": "code",
   "execution_count": null,
   "metadata": {},
   "outputs": [],
   "source": [
    "### 지도에 공원 표시하기 "
   ]
  },
  {
   "cell_type": "code",
   "execution_count": null,
   "metadata": {},
   "outputs": [],
   "source": [
    "map = folium.Map(location=[37.5502, 126.982], zoom_start=11)\n",
    "for i in park_new.index:\n",
    "    folium.CircleMarker(\n",
    "        location=[park_new.lat[i], park_new.lng[i]], \n",
    "        radius=int(park_new['size'][i]),\n",
    "        tooltip=f\"{park_new.공원명[i]}({park_new.area[i]:,d}㎡)\",\n",
    "        color='#3186cc', fill_color='#3186cc'\n",
    "    ).add_to(map)\n",
    "\n",
    "title_html = '<h3 align=\"center\" style=\"font-size:20px\"><b>서울시내 공원 위치와 크기</b></h3>'   \n",
    "map.get_root().html.add_child(folium.Element(title_html))\n",
    "map"
   ]
  },
  {
   "cell_type": "code",
   "execution_count": null,
   "metadata": {},
   "outputs": [],
   "source": [
    "### 자치구별 공원 분석 "
   ]
  },
  {
   "cell_type": "code",
   "execution_count": null,
   "metadata": {},
   "outputs": [],
   "source": [
    "park_gu = park_new.groupby('지역').sum()\n",
    "park_gu['공원수'] = park_new.groupby('지역').count()['area']\n",
    "del park_gu['lat']\n",
    "del park_gu['lng']\n",
    "park_gu.drop(['과천시'], inplace=True)\n",
    "park_gu.rename(columns={'area': '공원면적'}, inplace=True)\n",
    "park_gu.head()"
   ]
  },
  {
   "cell_type": "code",
   "execution_count": null,
   "metadata": {},
   "outputs": [],
   "source": [
    "- 구별 공원면적"
   ]
  },
  {
   "cell_type": "code",
   "execution_count": null,
   "metadata": {},
   "outputs": [],
   "source": [
    "import json\n",
    "geo_str = json.load(open('skorea_municipalities_geo_simple.json',\n",
    "                         encoding='utf8'))"
   ]
  },
  {
   "cell_type": "code",
   "execution_count": null,
   "metadata": {},
   "outputs": [],
   "source": [
    "map = folium.Map(\n",
    "        location=[37.5502, 126.982], \n",
    "        zoom_start=11, tiles='Stamen Toner'\n",
    ")\n",
    "map.choropleth(\n",
    "    geo_data = geo_str,\n",
    "    data = park_gu.공원면적,\n",
    "    columns = [park_gu.index, park_gu.공원면적],\n",
    "    fill_color = 'PuRd',\n",
    "    key_on = 'feature.id'\n",
    ")\n",
    "for i in park_new.index:\n",
    "    folium.CircleMarker(\n",
    "        location=[park_new.lat[i], park_new.lng[i]], \n",
    "        radius=int(park_new['size'][i]),\n",
    "        tooltip=f\"{park_new.공원명[i]}({park_new.area[i]:,d}㎡)\",\n",
    "        color='green', fill_color='green'\n",
    "    ).add_to(map)\n",
    "\n",
    "title_html = '<h3 align=\"center\" style=\"font-size:20px\"><b>자치구별 공원면적</b></h3>'   \n",
    "map.get_root().html.add_child(folium.Element(tit"
   ]
  }
 ]
}