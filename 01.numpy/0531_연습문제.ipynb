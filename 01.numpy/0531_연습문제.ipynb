{
 "metadata": {
  "language_info": {
   "codemirror_mode": {
    "name": "ipython",
    "version": 3
   },
   "file_extension": ".py",
   "mimetype": "text/x-python",
   "name": "python",
   "nbconvert_exporter": "python",
   "pygments_lexer": "ipython3",
   "version": "3.8.5"
  },
  "orig_nbformat": 2,
  "kernelspec": {
   "name": "python385jvsc74a57bd08c1eae21719a0790335dcb83aad72b63b602cfe5cdb2bda0f60bc11d4f154e4b",
   "display_name": "Python 3.8.5 64-bit ('base': conda)"
  }
 },
 "nbformat": 4,
 "nbformat_minor": 2,
 "cells": [
  {
   "cell_type": "code",
   "execution_count": 1,
   "metadata": {},
   "outputs": [],
   "source": [
    "import numpy as np"
   ]
  },
  {
   "source": [
    "#### 1번 넘파이를 사용하여 행렬을 만드시오"
   ],
   "cell_type": "markdown",
   "metadata": {}
  },
  {
   "cell_type": "code",
   "execution_count": 7,
   "metadata": {},
   "outputs": [
    {
     "output_type": "stream",
     "name": "stdout",
     "text": [
      "[[10. 20. 30. 40.]\n [50. 60. 70. 80.]]\n"
     ]
    }
   ],
   "source": [
    "m= [[10, 20,30,40], [50,60,70,80]]\n",
    "a = np.array(m, float)\n",
    "print(a)"
   ]
  },
  {
   "cell_type": "code",
   "execution_count": null,
   "metadata": {},
   "outputs": [],
   "source": [
    "np.arange(1,9).reshape(2*4)"
   ]
  },
  {
   "source": [
    "#### 2번"
   ],
   "cell_type": "markdown",
   "metadata": {}
  },
  {
   "cell_type": "code",
   "execution_count": 9,
   "metadata": {},
   "outputs": [],
   "source": [
    "m = np.array([[ 0, 1, 2, 3, 4],\n",
    "              [ 5, 6, 7, 8, 9],\n",
    "              [10, 11, 12, 13, 14]])"
   ]
  },
  {
   "cell_type": "code",
   "execution_count": 52,
   "metadata": {},
   "outputs": [
    {
     "output_type": "stream",
     "name": "stdout",
     "text": [
      "7\n14\n"
     ]
    },
    {
     "output_type": "execute_result",
     "data": {
      "text/plain": [
       "array([[6, 7]])"
      ]
     },
     "metadata": {},
     "execution_count": 52
    }
   ],
   "source": [
    "# 1) 이 행렬에서 값 7 을 인덱싱한다.\n",
    "print(m[1,2])\n",
    "# 2) 이 행렬에서 값 14 을 인덱싱한다.\n",
    "print(m[2,4]) # = -1,-1\n",
    "# 3) 이 행렬에서 배열 [6, 7] 을 슬라이싱한다.\n",
    "m[1:2,1:3] #[1,1:3]"
   ]
  },
  {
   "cell_type": "code",
   "execution_count": 37,
   "metadata": {},
   "outputs": [
    {
     "output_type": "execute_result",
     "data": {
      "text/plain": [
       "array([[ 7],\n",
       "       [12]])"
      ]
     },
     "metadata": {},
     "execution_count": 37
    }
   ],
   "source": [
    "# 4) 이 행렬에서 배열 [7, 12] 을 슬라이싱한다.\n",
    "m[1:3,2:3] #[1:.2]"
   ]
  },
  {
   "cell_type": "code",
   "execution_count": 63,
   "metadata": {},
   "outputs": [
    {
     "output_type": "execute_result",
     "data": {
      "text/plain": [
       "array([[3, 4],\n",
       "       [8, 9]])"
      ]
     },
     "metadata": {},
     "execution_count": 63
    }
   ],
   "source": [
    "# 5) 이 행렬에서 배열 [[3, 4], [8, 9]] 을 슬라이싱한다.\n",
    "m[:2,3:5]"
   ]
  },
  {
   "source": [
    "#### 3. 2번의 행렬 m을 1차원 벡터 f 로 변환한 후 다음의 문제를 푸시오."
   ],
   "cell_type": "markdown",
   "metadata": {}
  },
  {
   "cell_type": "code",
   "execution_count": 51,
   "metadata": {},
   "outputs": [
    {
     "output_type": "execute_result",
     "data": {
      "text/plain": [
       "array([ 0,  1,  2,  3,  4,  5,  6,  7,  8,  9, 10, 11, 12, 13, 14])"
      ]
     },
     "metadata": {},
     "execution_count": 51
    }
   ],
   "source": [
    "m = np.array([[ 0, 1, 2, 3, 4],\n",
    "              [ 5, 6, 7, 8, 9],\n",
    "              [10, 11, 12, 13, 14]])\n",
    "\n",
    "f = m.reshape(-1,)\n",
    "f"
   ]
  },
  {
   "cell_type": "code",
   "execution_count": 52,
   "metadata": {},
   "outputs": [
    {
     "output_type": "execute_result",
     "data": {
      "text/plain": [
       "array([ 0,  3,  6,  9, 12])"
      ]
     },
     "metadata": {},
     "execution_count": 52
    }
   ],
   "source": [
    "# 1) 이 배열에서 3의 배수를 찾아라.\n",
    "f[f% 3 == 0 ]"
   ]
  },
  {
   "source": [
    "# 2) 이 배열에서 4로 나누면 1이 남는 수를 찾아라.\n",
    "f[f % 4 ==1]"
   ],
   "cell_type": "code",
   "metadata": {},
   "execution_count": 53,
   "outputs": [
    {
     "output_type": "execute_result",
     "data": {
      "text/plain": [
       "array([ 1,  5,  9, 13])"
      ]
     },
     "metadata": {},
     "execution_count": 53
    }
   ]
  },
  {
   "cell_type": "code",
   "execution_count": 54,
   "metadata": {},
   "outputs": [
    {
     "output_type": "error",
     "ename": "ValueError",
     "evalue": "The truth value of an array with more than one element is ambiguous. Use a.any() or a.all()",
     "traceback": [
      "\u001b[1;31m---------------------------------------------------------------------------\u001b[0m",
      "\u001b[1;31mValueError\u001b[0m                                Traceback (most recent call last)",
      "\u001b[1;32m<ipython-input-54-6d57e2481cfd>\u001b[0m in \u001b[0;36m<module>\u001b[1;34m\u001b[0m\n\u001b[0;32m      1\u001b[0m \u001b[1;31m# 3) 이 배열에서 3으로 나누면 나누어지고 4로 나누면 1이 남는 수를 찾아라\u001b[0m\u001b[1;33m\u001b[0m\u001b[1;33m\u001b[0m\u001b[1;33m\u001b[0m\u001b[0m\n\u001b[1;32m----> 2\u001b[1;33m \u001b[0mf\u001b[0m\u001b[1;33m[\u001b[0m\u001b[0mf\u001b[0m\u001b[1;33m%\u001b[0m\u001b[1;36m3\u001b[0m \u001b[1;33m==\u001b[0m \u001b[1;36m0\u001b[0m \u001b[1;32mand\u001b[0m \u001b[0mf\u001b[0m\u001b[1;33m%\u001b[0m\u001b[1;36m4\u001b[0m \u001b[1;33m==\u001b[0m\u001b[1;36m1\u001b[0m\u001b[1;33m]\u001b[0m\u001b[1;33m\u001b[0m\u001b[1;33m\u001b[0m\u001b[0m\n\u001b[0m",
      "\u001b[1;31mValueError\u001b[0m: The truth value of an array with more than one element is ambiguous. Use a.any() or a.all()"
     ]
    }
   ],
   "source": [
    "# 3) 이 배열에서 3으로 나누면 나누어지고 4로 나누면 1이 남는 수를 찾아라\n",
    "f[f%3 == 0 and f%4 ==1]"
   ]
  },
  {
   "cell_type": "code",
   "execution_count": null,
   "metadata": {},
   "outputs": [],
   "source": [
    "# f[np.logical_and"
   ]
  },
  {
   "source": [
    "#### 4. 값을 입력하지말고 행렬을 만들어라 "
   ],
   "cell_type": "markdown",
   "metadata": {}
  },
  {
   "cell_type": "code",
   "execution_count": 79,
   "metadata": {},
   "outputs": [
    {
     "output_type": "execute_result",
     "data": {
      "text/plain": [
       "array([[0., 1., 0., 0., 0.],\n",
       "       [0., 0., 1., 0., 0.],\n",
       "       [0., 0., 0., 1., 0.],\n",
       "       [0., 0., 0., 0., 1.],\n",
       "       [0., 0., 0., 0., 0.]])"
      ]
     },
     "metadata": {},
     "execution_count": 79
    }
   ],
   "source": [
    "np.eye(5,5,1)"
   ]
  },
  {
   "source": [
    "#### 5. 0에서 10까지 랜덤 실수값으로 이루어진 5 x 6 형태의 데이터 행렬을 만들고 이 데이터에\n",
    "대해 다음과 같은 값을 구하시오."
   ],
   "cell_type": "markdown",
   "metadata": {}
  },
  {
   "cell_type": "code",
   "execution_count": 27,
   "metadata": {},
   "outputs": [
    {
     "output_type": "execute_result",
     "data": {
      "text/plain": [
       "10"
      ]
     },
     "metadata": {},
     "execution_count": 27
    }
   ],
   "source": [
    "#전체의 최댓값\n",
    "ran.max()"
   ]
  },
  {
   "cell_type": "code",
   "execution_count": 18,
   "metadata": {},
   "outputs": [
    {
     "output_type": "execute_result",
     "data": {
      "text/plain": [
       "array([27, 27, 40, 38, 24])"
      ]
     },
     "metadata": {},
     "execution_count": 18
    }
   ],
   "source": [
    "#각 행의 합\n",
    "ran.sum(axis=1)"
   ]
  },
  {
   "cell_type": "code",
   "execution_count": 23,
   "metadata": {},
   "outputs": [
    {
     "output_type": "execute_result",
     "data": {
      "text/plain": [
       "array([6.4, 5. , 3.8, 2.6, 6.4, 7. ])"
      ]
     },
     "metadata": {},
     "execution_count": 23
    }
   ],
   "source": [
    "#각 열의 평균\n",
    "ran. mean(axis =0)"
   ]
  },
  {
   "cell_type": "code",
   "execution_count": 25,
   "metadata": {},
   "outputs": [
    {
     "output_type": "execute_result",
     "data": {
      "text/plain": [
       "array([3, 0, 1, 0, 3, 5])"
      ]
     },
     "metadata": {},
     "execution_count": 25
    }
   ],
   "source": [
    "# 각 열의 최솟값\n",
    "ran.min(axis=0)"
   ]
  },
  {
   "source": [
    "#### 6. 다음 배열은 첫번째 행(row)에 학번, 두번째 행에 영어 성적, 세번째 행에 수학 성적을 적은\n",
    "배열이다. 영어 성적을 기준으로 각 열(column)을 재정렬하시오."
   ],
   "cell_type": "markdown",
   "metadata": {}
  },
  {
   "cell_type": "code",
   "execution_count": 36,
   "metadata": {},
   "outputs": [],
   "source": [
    "eng= np.array([[ 1, 2, 3, 4],\n",
    "            [ 46, 99, 100, 71],\n",
    "            [ 81, 59, 90, 100]])"
   ]
  },
  {
   "cell_type": "code",
   "execution_count": 40,
   "metadata": {},
   "outputs": [
    {
     "output_type": "stream",
     "name": "stdout",
     "text": [
      "[[  1   2   3   4]\n [ 46  71  99 100]\n [ 59  81  90 100]]\n"
     ]
    }
   ],
   "source": [
    "# 3 2 4 1 \n",
    "print(np.sort(eng))\n"
   ]
  },
  {
   "cell_type": "code",
   "execution_count": null,
   "metadata": {},
   "outputs": [],
   "source": [
    "argsort(score[1]) 1번째줄 기준으로 sort "
   ]
  },
  {
   "cell_type": "code",
   "execution_count": null,
   "metadata": {},
   "outputs": [],
   "source": [
    "# 내림차순 한꺼번에 수행 \n",
    "score[:,np.argsort(score[1])[::-1]]"
   ]
  },
  {
   "source": [
    "#### 7. 주사위를 100번 던지는 가상 실험을 파이썬으로 작성하고, 던져서 나오는 숫자의 평균을 구하시오."
   ],
   "cell_type": "markdown",
   "metadata": {}
  },
  {
   "cell_type": "code",
   "execution_count": 2,
   "metadata": {},
   "outputs": [
    {
     "output_type": "execute_result",
     "data": {
      "text/plain": [
       "3.48"
      ]
     },
     "metadata": {},
     "execution_count": 2
    }
   ],
   "source": [
    "np.random.seed(5)\n",
    "dice = np.random.randint(1,7,100)\n",
    "dice.mean()"
   ]
  },
  {
   "source": [
    "#### 8. 가격이 10,000원인 주식이 있다. 이 주식의 일간 수익률(%)은 기댓값이 0%이고 표준편차가 1%인 표준 정규 분포를 따른다고 하자. 250일 동안의 주가를 무작위로 생성하시오."
   ],
   "cell_type": "markdown",
   "metadata": {}
  },
  {
   "cell_type": "code",
   "execution_count": null,
   "metadata": {},
   "outputs": [],
   "source": [
    "N(0,1)\n",
    "\n",
    "전일 9900 10000+(-1)*0.01 *10000\n",
    "9900+(1)*0.01 *9900 =9999"
   ]
  },
  {
   "cell_type": "code",
   "execution_count": null,
   "metadata": {},
   "outputs": [],
   "source": [
    "# arry 계산은 빠름 하지만 갯수를 줄이거나 늘리는건 어령ㅁ\n",
    "# list 계산은 느리지만 갯수를 줄이거나 늘리는건 쉬움 "
   ]
  }
 ]
}